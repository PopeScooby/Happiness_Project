{
 "cells": [
  {
   "cell_type": "code",
   "execution_count": 1,
   "id": "57d83984",
   "metadata": {},
   "outputs": [],
   "source": [
    "import psycopg2\n",
    "import pandas as pd\n",
    "import numpy as np\n",
    "from pathlib import Path\n",
    "from collections import Counter\n",
    "\n",
    "import warnings\n",
    "warnings.filterwarnings('ignore')"
   ]
  },
  {
   "cell_type": "code",
   "execution_count": 2,
   "id": "d971fc72",
   "metadata": {},
   "outputs": [],
   "source": [
    "from sklearn.metrics import balanced_accuracy_score\n",
    "from sklearn.metrics import confusion_matrix\n",
    "from imblearn.metrics import classification_report_imbalanced"
   ]
  },
  {
   "cell_type": "markdown",
   "id": "4b9d9fd4",
   "metadata": {},
   "source": [
    "# Connect to Database"
   ]
  },
  {
   "cell_type": "code",
   "execution_count": 3,
   "id": "9c84ed09",
   "metadata": {},
   "outputs": [],
   "source": [
    "#Connect to PgAdmin\n",
    "engine = psycopg2.connect(\n",
    "    database=\"project-data\",\n",
    "    user = \"postgres\",\n",
    "    password = \"Post23!Fnord\",\n",
    "    host = \"happinessproject.cqkpnj5dcmou.us-east-1.rds.amazonaws.com\",\n",
    "    port = '5432'\n",
    "    )\n",
    "\n",
    "cursor = engine.cursor()\n"
   ]
  },
  {
   "cell_type": "code",
   "execution_count": 4,
   "id": "21bd6454",
   "metadata": {},
   "outputs": [],
   "source": [
    "#Pull combined data table\n",
    "query = \"SELECT * from combined_data\"\n",
    "\n",
    "df = pd.read_sql(query, con=engine)"
   ]
  },
  {
   "cell_type": "code",
   "execution_count": 5,
   "id": "ad3a6bcb",
   "metadata": {},
   "outputs": [
    {
     "data": {
      "text/html": [
       "<div>\n",
       "<style scoped>\n",
       "    .dataframe tbody tr th:only-of-type {\n",
       "        vertical-align: middle;\n",
       "    }\n",
       "\n",
       "    .dataframe tbody tr th {\n",
       "        vertical-align: top;\n",
       "    }\n",
       "\n",
       "    .dataframe thead th {\n",
       "        text-align: right;\n",
       "    }\n",
       "</style>\n",
       "<table border=\"1\" class=\"dataframe\">\n",
       "  <thead>\n",
       "    <tr style=\"text-align: right;\">\n",
       "      <th></th>\n",
       "      <th>country_name</th>\n",
       "      <th>region</th>\n",
       "      <th>ladder_score</th>\n",
       "      <th>stand_err</th>\n",
       "      <th>up_whisker</th>\n",
       "      <th>low_whisker</th>\n",
       "      <th>log_gdp_per_cap</th>\n",
       "      <th>social_support</th>\n",
       "      <th>healty_life_exp</th>\n",
       "      <th>freedom</th>\n",
       "      <th>...</th>\n",
       "      <th>ladder_2010</th>\n",
       "      <th>ladder_2012</th>\n",
       "      <th>ladder_2013</th>\n",
       "      <th>ladder_2014</th>\n",
       "      <th>ladder_2015</th>\n",
       "      <th>ladder_2016</th>\n",
       "      <th>ladder_2017</th>\n",
       "      <th>ladder_2018</th>\n",
       "      <th>ladder_2019</th>\n",
       "      <th>ladder_2020</th>\n",
       "    </tr>\n",
       "  </thead>\n",
       "  <tbody>\n",
       "    <tr>\n",
       "      <th>0</th>\n",
       "      <td>Brazil</td>\n",
       "      <td>Latin America and Caribbean</td>\n",
       "      <td>6.330</td>\n",
       "      <td>0.043</td>\n",
       "      <td>6.415</td>\n",
       "      <td>6.245</td>\n",
       "      <td>9.577</td>\n",
       "      <td>0.882</td>\n",
       "      <td>66.601</td>\n",
       "      <td>0.804</td>\n",
       "      <td>...</td>\n",
       "      <td>6.837</td>\n",
       "      <td>7.038</td>\n",
       "      <td>7.140</td>\n",
       "      <td>6.981</td>\n",
       "      <td>6.547</td>\n",
       "      <td>6.375</td>\n",
       "      <td>6.333</td>\n",
       "      <td>6.191</td>\n",
       "      <td>6.451</td>\n",
       "      <td>6.110</td>\n",
       "    </tr>\n",
       "    <tr>\n",
       "      <th>1</th>\n",
       "      <td>India</td>\n",
       "      <td>South Asia</td>\n",
       "      <td>3.819</td>\n",
       "      <td>0.026</td>\n",
       "      <td>3.869</td>\n",
       "      <td>3.769</td>\n",
       "      <td>8.755</td>\n",
       "      <td>0.603</td>\n",
       "      <td>60.633</td>\n",
       "      <td>0.893</td>\n",
       "      <td>...</td>\n",
       "      <td>4.989</td>\n",
       "      <td>4.635</td>\n",
       "      <td>4.428</td>\n",
       "      <td>4.424</td>\n",
       "      <td>4.342</td>\n",
       "      <td>4.179</td>\n",
       "      <td>4.046</td>\n",
       "      <td>3.818</td>\n",
       "      <td>3.249</td>\n",
       "      <td>4.225</td>\n",
       "    </tr>\n",
       "    <tr>\n",
       "      <th>2</th>\n",
       "      <td>Russia</td>\n",
       "      <td>Commonwealth of Independent States</td>\n",
       "      <td>5.477</td>\n",
       "      <td>0.033</td>\n",
       "      <td>5.541</td>\n",
       "      <td>5.413</td>\n",
       "      <td>10.189</td>\n",
       "      <td>0.903</td>\n",
       "      <td>64.703</td>\n",
       "      <td>0.718</td>\n",
       "      <td>...</td>\n",
       "      <td>5.385</td>\n",
       "      <td>5.389</td>\n",
       "      <td>5.537</td>\n",
       "      <td>6.037</td>\n",
       "      <td>5.996</td>\n",
       "      <td>5.855</td>\n",
       "      <td>5.579</td>\n",
       "      <td>5.514</td>\n",
       "      <td>5.441</td>\n",
       "      <td>5.495</td>\n",
       "    </tr>\n",
       "    <tr>\n",
       "      <th>3</th>\n",
       "      <td>South Africa</td>\n",
       "      <td>Sub-Saharan Africa</td>\n",
       "      <td>4.956</td>\n",
       "      <td>0.060</td>\n",
       "      <td>5.074</td>\n",
       "      <td>4.839</td>\n",
       "      <td>9.403</td>\n",
       "      <td>0.860</td>\n",
       "      <td>56.904</td>\n",
       "      <td>0.749</td>\n",
       "      <td>...</td>\n",
       "      <td>4.652</td>\n",
       "      <td>4.931</td>\n",
       "      <td>3.661</td>\n",
       "      <td>4.828</td>\n",
       "      <td>4.887</td>\n",
       "      <td>4.770</td>\n",
       "      <td>4.514</td>\n",
       "      <td>4.884</td>\n",
       "      <td>5.035</td>\n",
       "      <td>4.947</td>\n",
       "    </tr>\n",
       "    <tr>\n",
       "      <th>4</th>\n",
       "      <td>Mexico</td>\n",
       "      <td>Latin America and Caribbean</td>\n",
       "      <td>6.317</td>\n",
       "      <td>0.053</td>\n",
       "      <td>6.420</td>\n",
       "      <td>6.213</td>\n",
       "      <td>9.859</td>\n",
       "      <td>0.831</td>\n",
       "      <td>68.597</td>\n",
       "      <td>0.862</td>\n",
       "      <td>...</td>\n",
       "      <td>6.802</td>\n",
       "      <td>6.910</td>\n",
       "      <td>7.443</td>\n",
       "      <td>6.680</td>\n",
       "      <td>6.236</td>\n",
       "      <td>6.824</td>\n",
       "      <td>6.410</td>\n",
       "      <td>6.550</td>\n",
       "      <td>6.432</td>\n",
       "      <td>5.964</td>\n",
       "    </tr>\n",
       "  </tbody>\n",
       "</table>\n",
       "<p>5 rows × 54 columns</p>\n",
       "</div>"
      ],
      "text/plain": [
       "   country_name                              region  ladder_score  stand_err  \\\n",
       "0        Brazil         Latin America and Caribbean         6.330      0.043   \n",
       "1         India                          South Asia         3.819      0.026   \n",
       "2        Russia  Commonwealth of Independent States         5.477      0.033   \n",
       "3  South Africa                  Sub-Saharan Africa         4.956      0.060   \n",
       "4        Mexico         Latin America and Caribbean         6.317      0.053   \n",
       "\n",
       "   up_whisker  low_whisker  log_gdp_per_cap  social_support  healty_life_exp  \\\n",
       "0       6.415        6.245            9.577           0.882           66.601   \n",
       "1       3.869        3.769            8.755           0.603           60.633   \n",
       "2       5.541        5.413           10.189           0.903           64.703   \n",
       "3       5.074        4.839            9.403           0.860           56.904   \n",
       "4       6.420        6.213            9.859           0.831           68.597   \n",
       "\n",
       "   freedom  ...  ladder_2010  ladder_2012  ladder_2013  ladder_2014  \\\n",
       "0    0.804  ...        6.837        7.038        7.140        6.981   \n",
       "1    0.893  ...        4.989        4.635        4.428        4.424   \n",
       "2    0.718  ...        5.385        5.389        5.537        6.037   \n",
       "3    0.749  ...        4.652        4.931        3.661        4.828   \n",
       "4    0.862  ...        6.802        6.910        7.443        6.680   \n",
       "\n",
       "   ladder_2015  ladder_2016  ladder_2017  ladder_2018  ladder_2019  \\\n",
       "0        6.547        6.375        6.333        6.191        6.451   \n",
       "1        4.342        4.179        4.046        3.818        3.249   \n",
       "2        5.996        5.855        5.579        5.514        5.441   \n",
       "3        4.887        4.770        4.514        4.884        5.035   \n",
       "4        6.236        6.824        6.410        6.550        6.432   \n",
       "\n",
       "   ladder_2020  \n",
       "0        6.110  \n",
       "1        4.225  \n",
       "2        5.495  \n",
       "3        4.947  \n",
       "4        5.964  \n",
       "\n",
       "[5 rows x 54 columns]"
      ]
     },
     "execution_count": 5,
     "metadata": {},
     "output_type": "execute_result"
    }
   ],
   "source": [
    "df.head()"
   ]
  },
  {
   "cell_type": "markdown",
   "id": "dc93f50d",
   "metadata": {},
   "source": [
    "# Clean master table for Machine Learning"
   ]
  },
  {
   "cell_type": "code",
   "execution_count": 7,
   "id": "58cc31e7",
   "metadata": {},
   "outputs": [
    {
     "data": {
      "text/plain": [
       "['country_name',\n",
       " 'region',\n",
       " 'ladder_score',\n",
       " 'stand_err',\n",
       " 'up_whisker',\n",
       " 'low_whisker',\n",
       " 'log_gdp_per_cap',\n",
       " 'social_support',\n",
       " 'healty_life_exp',\n",
       " 'freedom',\n",
       " 'generosity',\n",
       " 'percept_corrupt',\n",
       " 'ladder_score_distopia',\n",
       " 'expby_log_gdp_per_cap',\n",
       " 'expby_social_support',\n",
       " 'expby_healty_life_exp',\n",
       " 'expby_freedom',\n",
       " 'expby_generosity',\n",
       " 'expby_percept_corrupt',\n",
       " 'distopia_plus_resid',\n",
       " 'ac_both_sexes',\n",
       " 'ac_male',\n",
       " 'ac_female',\n",
       " 'population_2021',\n",
       " 'covid_total_cases',\n",
       " 'covid_new_cases',\n",
       " 'covid_total_deaths',\n",
       " 'covid_new_deaths',\n",
       " 'covid_total_recovered',\n",
       " 'covid_new_recovered',\n",
       " 'covid_active_cases',\n",
       " 'covid_serious_critical',\n",
       " 'covid_cases_per_mil',\n",
       " 'covid_deaths_per_mil',\n",
       " 'covid_total_tests',\n",
       " 'covid_tests_per_mil',\n",
       " 'covid_who_region',\n",
       " 'population_2020',\n",
       " 'land_area_skm',\n",
       " 'density_skm',\n",
       " 'meat_consumption',\n",
       " 'median_age',\n",
       " 'screen_time_avg',\n",
       " 'suicide_rate',\n",
       " 'ladder_2010',\n",
       " 'ladder_2012',\n",
       " 'ladder_2013',\n",
       " 'ladder_2014',\n",
       " 'ladder_2015',\n",
       " 'ladder_2016',\n",
       " 'ladder_2017',\n",
       " 'ladder_2018',\n",
       " 'ladder_2019',\n",
       " 'ladder_2020']"
      ]
     },
     "execution_count": 7,
     "metadata": {},
     "output_type": "execute_result"
    }
   ],
   "source": [
    "#column names\n",
    "list(df)"
   ]
  },
  {
   "cell_type": "code",
   "execution_count": 8,
   "id": "6bbdb2fe",
   "metadata": {},
   "outputs": [],
   "source": [
    "df2 = df.filter(['ladder_score', 'freedom','healty_life_exp', 'log_gdp_per_cap', 'meat_consumption',\n",
    "                 'percept_corrupt', 'social_support', 'covid_tests_per_mil', 'ac_female', 'generosity', 'covid_deaths_per_mil', 'covid_total_tests', 'covid_active_cases'], axis=1)"
   ]
  },
  {
   "cell_type": "code",
   "execution_count": 9,
   "id": "0da49cf8",
   "metadata": {},
   "outputs": [
    {
     "data": {
      "text/plain": [
       "ladder_score             0\n",
       "freedom                  0\n",
       "healty_life_exp          0\n",
       "log_gdp_per_cap          0\n",
       "meat_consumption        12\n",
       "percept_corrupt          0\n",
       "social_support           0\n",
       "covid_tests_per_mil     23\n",
       "ac_female                8\n",
       "generosity               0\n",
       "covid_deaths_per_mil    17\n",
       "covid_total_tests       23\n",
       "covid_active_cases      17\n",
       "dtype: int64"
      ]
     },
     "execution_count": 9,
     "metadata": {},
     "output_type": "execute_result"
    }
   ],
   "source": [
    "# view total null values for columns\n",
    "df2.isna().sum()"
   ]
  },
  {
   "cell_type": "code",
   "execution_count": 10,
   "id": "9ee94031",
   "metadata": {},
   "outputs": [
    {
     "data": {
      "text/plain": [
       "149"
      ]
     },
     "execution_count": 10,
     "metadata": {},
     "output_type": "execute_result"
    }
   ],
   "source": [
    "#compare NA values to dataset row count\n",
    "len(df2)"
   ]
  },
  {
   "cell_type": "code",
   "execution_count": 11,
   "id": "60d77859",
   "metadata": {},
   "outputs": [],
   "source": [
    "#drop all rows containing NA values\n",
    "df2 = df2.dropna()"
   ]
  },
  {
   "cell_type": "code",
   "execution_count": 12,
   "id": "6207432f",
   "metadata": {},
   "outputs": [
    {
     "data": {
      "text/plain": [
       "ladder_score            0\n",
       "freedom                 0\n",
       "healty_life_exp         0\n",
       "log_gdp_per_cap         0\n",
       "meat_consumption        0\n",
       "percept_corrupt         0\n",
       "social_support          0\n",
       "covid_tests_per_mil     0\n",
       "ac_female               0\n",
       "generosity              0\n",
       "covid_deaths_per_mil    0\n",
       "covid_total_tests       0\n",
       "covid_active_cases      0\n",
       "dtype: int64"
      ]
     },
     "execution_count": 12,
     "metadata": {},
     "output_type": "execute_result"
    }
   ],
   "source": [
    "# view total null values for columns\n",
    "df2.isna().sum()"
   ]
  },
  {
   "cell_type": "code",
   "execution_count": 13,
   "id": "75901b81",
   "metadata": {},
   "outputs": [
    {
     "data": {
      "text/plain": [
       "116"
      ]
     },
     "execution_count": 13,
     "metadata": {},
     "output_type": "execute_result"
    }
   ],
   "source": [
    "#length of final dataset for analysis \n",
    "len(df2)"
   ]
  },
  {
   "cell_type": "markdown",
   "id": "834c0916",
   "metadata": {},
   "source": [
    "# Random Forest: Find the 10 variables that impact happiness scores the most "
   ]
  },
  {
   "cell_type": "code",
   "execution_count": 14,
   "id": "32b0722a",
   "metadata": {},
   "outputs": [],
   "source": [
    "# Create columns and target variables\n",
    "columns = [\n",
    "    'ladder_score', 'freedom','healty_life_exp', 'log_gdp_per_cap', 'meat_consumption',\n",
    "                 'percept_corrupt', 'social_support', 'covid_tests_per_mil', 'ac_female', \n",
    "    'generosity', 'covid_deaths_per_mil', 'covid_total_tests', 'covid_active_cases'\n",
    "]\n",
    "\n",
    "target = [\"ladder_score\"]"
   ]
  },
  {
   "cell_type": "code",
   "execution_count": 15,
   "id": "c9031dad",
   "metadata": {},
   "outputs": [
    {
     "data": {
      "text/html": [
       "<div>\n",
       "<style scoped>\n",
       "    .dataframe tbody tr th:only-of-type {\n",
       "        vertical-align: middle;\n",
       "    }\n",
       "\n",
       "    .dataframe tbody tr th {\n",
       "        vertical-align: top;\n",
       "    }\n",
       "\n",
       "    .dataframe thead th {\n",
       "        text-align: right;\n",
       "    }\n",
       "</style>\n",
       "<table border=\"1\" class=\"dataframe\">\n",
       "  <thead>\n",
       "    <tr style=\"text-align: right;\">\n",
       "      <th></th>\n",
       "      <th>ladder_score</th>\n",
       "      <th>freedom</th>\n",
       "      <th>healty_life_exp</th>\n",
       "      <th>log_gdp_per_cap</th>\n",
       "      <th>meat_consumption</th>\n",
       "      <th>percept_corrupt</th>\n",
       "      <th>social_support</th>\n",
       "      <th>covid_tests_per_mil</th>\n",
       "      <th>ac_female</th>\n",
       "      <th>generosity</th>\n",
       "      <th>covid_deaths_per_mil</th>\n",
       "      <th>covid_total_tests</th>\n",
       "      <th>covid_active_cases</th>\n",
       "    </tr>\n",
       "  </thead>\n",
       "  <tbody>\n",
       "    <tr>\n",
       "      <th>0</th>\n",
       "      <td>6</td>\n",
       "      <td>0.804</td>\n",
       "      <td>66.601</td>\n",
       "      <td>9.577</td>\n",
       "      <td>82.4</td>\n",
       "      <td>0.756</td>\n",
       "      <td>0.882</td>\n",
       "      <td>62085.0</td>\n",
       "      <td>3.22</td>\n",
       "      <td>-0.071</td>\n",
       "      <td>464.0</td>\n",
       "      <td>13206188.0</td>\n",
       "      <td>771258.0</td>\n",
       "    </tr>\n",
       "    <tr>\n",
       "      <th>1</th>\n",
       "      <td>3</td>\n",
       "      <td>0.893</td>\n",
       "      <td>60.633</td>\n",
       "      <td>8.755</td>\n",
       "      <td>5.2</td>\n",
       "      <td>0.774</td>\n",
       "      <td>0.603</td>\n",
       "      <td>16035.0</td>\n",
       "      <td>1.89</td>\n",
       "      <td>0.089</td>\n",
       "      <td>30.0</td>\n",
       "      <td>22149351.0</td>\n",
       "      <td>606387.0</td>\n",
       "    </tr>\n",
       "    <tr>\n",
       "      <th>2</th>\n",
       "      <td>5</td>\n",
       "      <td>0.718</td>\n",
       "      <td>64.703</td>\n",
       "      <td>10.189</td>\n",
       "      <td>51.0</td>\n",
       "      <td>0.845</td>\n",
       "      <td>0.903</td>\n",
       "      <td>203623.0</td>\n",
       "      <td>4.31</td>\n",
       "      <td>-0.111</td>\n",
       "      <td>100.0</td>\n",
       "      <td>29716907.0</td>\n",
       "      <td>180931.0</td>\n",
       "    </tr>\n",
       "    <tr>\n",
       "      <th>3</th>\n",
       "      <td>4</td>\n",
       "      <td>0.749</td>\n",
       "      <td>56.904</td>\n",
       "      <td>9.403</td>\n",
       "      <td>39.0</td>\n",
       "      <td>0.860</td>\n",
       "      <td>0.860</td>\n",
       "      <td>53044.0</td>\n",
       "      <td>3.46</td>\n",
       "      <td>-0.067</td>\n",
       "      <td>162.0</td>\n",
       "      <td>3149807.0</td>\n",
       "      <td>141264.0</td>\n",
       "    </tr>\n",
       "    <tr>\n",
       "      <th>4</th>\n",
       "      <td>6</td>\n",
       "      <td>0.862</td>\n",
       "      <td>68.597</td>\n",
       "      <td>9.859</td>\n",
       "      <td>58.6</td>\n",
       "      <td>0.799</td>\n",
       "      <td>0.831</td>\n",
       "      <td>8189.0</td>\n",
       "      <td>2.18</td>\n",
       "      <td>-0.147</td>\n",
       "      <td>391.0</td>\n",
       "      <td>1056915.0</td>\n",
       "      <td>103325.0</td>\n",
       "    </tr>\n",
       "  </tbody>\n",
       "</table>\n",
       "</div>"
      ],
      "text/plain": [
       "   ladder_score  freedom  healty_life_exp  log_gdp_per_cap  meat_consumption  \\\n",
       "0             6    0.804           66.601            9.577              82.4   \n",
       "1             3    0.893           60.633            8.755               5.2   \n",
       "2             5    0.718           64.703           10.189              51.0   \n",
       "3             4    0.749           56.904            9.403              39.0   \n",
       "4             6    0.862           68.597            9.859              58.6   \n",
       "\n",
       "   percept_corrupt  social_support  covid_tests_per_mil  ac_female  \\\n",
       "0            0.756           0.882              62085.0       3.22   \n",
       "1            0.774           0.603              16035.0       1.89   \n",
       "2            0.845           0.903             203623.0       4.31   \n",
       "3            0.860           0.860              53044.0       3.46   \n",
       "4            0.799           0.831               8189.0       2.18   \n",
       "\n",
       "   generosity  covid_deaths_per_mil  covid_total_tests  covid_active_cases  \n",
       "0      -0.071                 464.0         13206188.0            771258.0  \n",
       "1       0.089                  30.0         22149351.0            606387.0  \n",
       "2      -0.111                 100.0         29716907.0            180931.0  \n",
       "3      -0.067                 162.0          3149807.0            141264.0  \n",
       "4      -0.147                 391.0          1056915.0            103325.0  "
      ]
     },
     "execution_count": 15,
     "metadata": {},
     "output_type": "execute_result"
    }
   ],
   "source": [
    "#Convert variable type for target to non-continuous dtype\n",
    "df2 = df2.astype({'ladder_score':'int'})\n",
    "\n",
    "df2.head()"
   ]
  },
  {
   "cell_type": "code",
   "execution_count": 16,
   "id": "0734cdc9",
   "metadata": {},
   "outputs": [],
   "source": [
    "# Create our features\n",
    "X = pd.get_dummies(df2.drop(columns=\"ladder_score\"))\n",
    "\n",
    "\n",
    "# Create our target\n",
    "y = df2[\"ladder_score\"]"
   ]
  },
  {
   "cell_type": "code",
   "execution_count": 17,
   "id": "75c00eb3",
   "metadata": {},
   "outputs": [
    {
     "data": {
      "text/html": [
       "<div>\n",
       "<style scoped>\n",
       "    .dataframe tbody tr th:only-of-type {\n",
       "        vertical-align: middle;\n",
       "    }\n",
       "\n",
       "    .dataframe tbody tr th {\n",
       "        vertical-align: top;\n",
       "    }\n",
       "\n",
       "    .dataframe thead th {\n",
       "        text-align: right;\n",
       "    }\n",
       "</style>\n",
       "<table border=\"1\" class=\"dataframe\">\n",
       "  <thead>\n",
       "    <tr style=\"text-align: right;\">\n",
       "      <th></th>\n",
       "      <th>freedom</th>\n",
       "      <th>healty_life_exp</th>\n",
       "      <th>log_gdp_per_cap</th>\n",
       "      <th>meat_consumption</th>\n",
       "      <th>percept_corrupt</th>\n",
       "      <th>social_support</th>\n",
       "      <th>covid_tests_per_mil</th>\n",
       "      <th>ac_female</th>\n",
       "      <th>generosity</th>\n",
       "      <th>covid_deaths_per_mil</th>\n",
       "      <th>covid_total_tests</th>\n",
       "      <th>covid_active_cases</th>\n",
       "    </tr>\n",
       "  </thead>\n",
       "  <tbody>\n",
       "    <tr>\n",
       "      <th>count</th>\n",
       "      <td>116.00000</td>\n",
       "      <td>116.000000</td>\n",
       "      <td>116.000000</td>\n",
       "      <td>116.000000</td>\n",
       "      <td>116.000000</td>\n",
       "      <td>116.000000</td>\n",
       "      <td>116.000000</td>\n",
       "      <td>116.00000</td>\n",
       "      <td>116.000000</td>\n",
       "      <td>116.000000</td>\n",
       "      <td>1.160000e+02</td>\n",
       "      <td>116.000000</td>\n",
       "    </tr>\n",
       "    <tr>\n",
       "      <th>mean</th>\n",
       "      <td>0.79681</td>\n",
       "      <td>65.128922</td>\n",
       "      <td>9.456112</td>\n",
       "      <td>45.112069</td>\n",
       "      <td>0.731862</td>\n",
       "      <td>0.816405</td>\n",
       "      <td>70759.991379</td>\n",
       "      <td>2.59150</td>\n",
       "      <td>-0.030078</td>\n",
       "      <td>92.468793</td>\n",
       "      <td>1.437235e+06</td>\n",
       "      <td>28377.758621</td>\n",
       "    </tr>\n",
       "    <tr>\n",
       "      <th>std</th>\n",
       "      <td>0.11199</td>\n",
       "      <td>6.527888</td>\n",
       "      <td>1.130718</td>\n",
       "      <td>34.220526</td>\n",
       "      <td>0.183552</td>\n",
       "      <td>0.117265</td>\n",
       "      <td>120702.292380</td>\n",
       "      <td>2.00247</td>\n",
       "      <td>0.150833</td>\n",
       "      <td>148.045397</td>\n",
       "      <td>3.750990e+06</td>\n",
       "      <td>94536.318327</td>\n",
       "    </tr>\n",
       "    <tr>\n",
       "      <th>min</th>\n",
       "      <td>0.38200</td>\n",
       "      <td>48.700000</td>\n",
       "      <td>6.635000</td>\n",
       "      <td>3.100000</td>\n",
       "      <td>0.082000</td>\n",
       "      <td>0.463000</td>\n",
       "      <td>4.000000</td>\n",
       "      <td>0.00000</td>\n",
       "      <td>-0.288000</td>\n",
       "      <td>0.080000</td>\n",
       "      <td>1.200000e+02</td>\n",
       "      <td>0.000000</td>\n",
       "    </tr>\n",
       "    <tr>\n",
       "      <th>25%</th>\n",
       "      <td>0.73100</td>\n",
       "      <td>60.427750</td>\n",
       "      <td>8.572750</td>\n",
       "      <td>17.125000</td>\n",
       "      <td>0.679750</td>\n",
       "      <td>0.759000</td>\n",
       "      <td>8405.750000</td>\n",
       "      <td>0.78750</td>\n",
       "      <td>-0.137500</td>\n",
       "      <td>6.000000</td>\n",
       "      <td>1.247078e+05</td>\n",
       "      <td>541.500000</td>\n",
       "    </tr>\n",
       "    <tr>\n",
       "      <th>50%</th>\n",
       "      <td>0.81050</td>\n",
       "      <td>66.651500</td>\n",
       "      <td>9.580500</td>\n",
       "      <td>34.950000</td>\n",
       "      <td>0.795500</td>\n",
       "      <td>0.834000</td>\n",
       "      <td>35939.000000</td>\n",
       "      <td>2.16000</td>\n",
       "      <td>-0.053500</td>\n",
       "      <td>29.500000</td>\n",
       "      <td>3.211060e+05</td>\n",
       "      <td>3583.500000</td>\n",
       "    </tr>\n",
       "    <tr>\n",
       "      <th>75%</th>\n",
       "      <td>0.88250</td>\n",
       "      <td>69.534250</td>\n",
       "      <td>10.360750</td>\n",
       "      <td>67.400000</td>\n",
       "      <td>0.847250</td>\n",
       "      <td>0.905250</td>\n",
       "      <td>88369.500000</td>\n",
       "      <td>4.36750</td>\n",
       "      <td>0.061000</td>\n",
       "      <td>110.000000</td>\n",
       "      <td>1.325602e+06</td>\n",
       "      <td>13398.500000</td>\n",
       "    </tr>\n",
       "    <tr>\n",
       "      <th>max</th>\n",
       "      <td>0.97000</td>\n",
       "      <td>76.953000</td>\n",
       "      <td>11.647000</td>\n",
       "      <td>145.900000</td>\n",
       "      <td>0.939000</td>\n",
       "      <td>0.983000</td>\n",
       "      <td>995282.000000</td>\n",
       "      <td>6.34000</td>\n",
       "      <td>0.542000</td>\n",
       "      <td>850.000000</td>\n",
       "      <td>2.971691e+07</td>\n",
       "      <td>771258.000000</td>\n",
       "    </tr>\n",
       "  </tbody>\n",
       "</table>\n",
       "</div>"
      ],
      "text/plain": [
       "         freedom  healty_life_exp  log_gdp_per_cap  meat_consumption  \\\n",
       "count  116.00000       116.000000       116.000000        116.000000   \n",
       "mean     0.79681        65.128922         9.456112         45.112069   \n",
       "std      0.11199         6.527888         1.130718         34.220526   \n",
       "min      0.38200        48.700000         6.635000          3.100000   \n",
       "25%      0.73100        60.427750         8.572750         17.125000   \n",
       "50%      0.81050        66.651500         9.580500         34.950000   \n",
       "75%      0.88250        69.534250        10.360750         67.400000   \n",
       "max      0.97000        76.953000        11.647000        145.900000   \n",
       "\n",
       "       percept_corrupt  social_support  covid_tests_per_mil  ac_female  \\\n",
       "count       116.000000      116.000000           116.000000  116.00000   \n",
       "mean          0.731862        0.816405         70759.991379    2.59150   \n",
       "std           0.183552        0.117265        120702.292380    2.00247   \n",
       "min           0.082000        0.463000             4.000000    0.00000   \n",
       "25%           0.679750        0.759000          8405.750000    0.78750   \n",
       "50%           0.795500        0.834000         35939.000000    2.16000   \n",
       "75%           0.847250        0.905250         88369.500000    4.36750   \n",
       "max           0.939000        0.983000        995282.000000    6.34000   \n",
       "\n",
       "       generosity  covid_deaths_per_mil  covid_total_tests  covid_active_cases  \n",
       "count  116.000000            116.000000       1.160000e+02          116.000000  \n",
       "mean    -0.030078             92.468793       1.437235e+06        28377.758621  \n",
       "std      0.150833            148.045397       3.750990e+06        94536.318327  \n",
       "min     -0.288000              0.080000       1.200000e+02            0.000000  \n",
       "25%     -0.137500              6.000000       1.247078e+05          541.500000  \n",
       "50%     -0.053500             29.500000       3.211060e+05         3583.500000  \n",
       "75%      0.061000            110.000000       1.325602e+06        13398.500000  \n",
       "max      0.542000            850.000000       2.971691e+07       771258.000000  "
      ]
     },
     "execution_count": 17,
     "metadata": {},
     "output_type": "execute_result"
    }
   ],
   "source": [
    "X.describe()"
   ]
  },
  {
   "cell_type": "code",
   "execution_count": 18,
   "id": "481a1204",
   "metadata": {},
   "outputs": [
    {
     "data": {
      "text/plain": [
       "5    36\n",
       "6    28\n",
       "4    28\n",
       "7    14\n",
       "3     9\n",
       "2     1\n",
       "Name: ladder_score, dtype: int64"
      ]
     },
     "execution_count": 18,
     "metadata": {},
     "output_type": "execute_result"
    }
   ],
   "source": [
    "# Check the balance of our target values\n",
    "y.value_counts()"
   ]
  },
  {
   "cell_type": "code",
   "execution_count": 19,
   "id": "651fdccd",
   "metadata": {},
   "outputs": [
    {
     "data": {
      "text/plain": [
       "Counter({6: 23, 5: 26, 7: 10, 4: 21, 3: 7})"
      ]
     },
     "execution_count": 19,
     "metadata": {},
     "output_type": "execute_result"
    }
   ],
   "source": [
    "from sklearn.model_selection import train_test_split\n",
    "X_train, X_test, y_train, y_test = train_test_split(X, y, random_state=1)\n",
    "Counter(y_train)"
   ]
  },
  {
   "cell_type": "code",
   "execution_count": 20,
   "id": "05a5849a",
   "metadata": {},
   "outputs": [],
   "source": [
    "# Resample the training data with the BalancedRandomForestClassifier\n",
    "from sklearn.ensemble import RandomForestClassifier\n",
    "rf_model = RandomForestClassifier(n_estimators=128, random_state=78) \n",
    "\n",
    "# Creating a StandardScaler instance.\n",
    "from sklearn.preprocessing import StandardScaler\n",
    "scaler = StandardScaler()\n",
    "# Fitting the Standard Scaler with the training data.\n",
    "X_scaler = scaler.fit(X_train)\n",
    "\n",
    "# Scaling the data.\n",
    "X_train_scaled = X_scaler.transform(X_train)\n",
    "X_test_scaled = X_scaler.transform(X_test)\n",
    "\n",
    "# Fitting the model\n",
    "rf_model = rf_model.fit(X_train_scaled, y_train)\n",
    "\n",
    "# Making predictions using the testing data.\n",
    "predictions = rf_model.predict(X_test_scaled)"
   ]
  },
  {
   "cell_type": "code",
   "execution_count": 21,
   "id": "d31edfbb",
   "metadata": {},
   "outputs": [
    {
     "data": {
      "text/plain": [
       "0.4619047619047619"
      ]
     },
     "execution_count": 21,
     "metadata": {},
     "output_type": "execute_result"
    }
   ],
   "source": [
    "# Calculated the balanced accuracy score\n",
    "acc_score = balanced_accuracy_score(y_test, predictions)\n",
    "acc_score"
   ]
  },
  {
   "cell_type": "code",
   "execution_count": 22,
   "id": "d4a45684",
   "metadata": {},
   "outputs": [
    {
     "data": {
      "text/plain": [
       "array([[0, 0, 1, 0, 0, 0],\n",
       "       [0, 1, 1, 0, 0, 0],\n",
       "       [0, 0, 4, 3, 0, 0],\n",
       "       [0, 0, 3, 5, 2, 0],\n",
       "       [0, 0, 0, 2, 1, 2],\n",
       "       [0, 0, 0, 0, 0, 4]], dtype=int64)"
      ]
     },
     "execution_count": 22,
     "metadata": {},
     "output_type": "execute_result"
    }
   ],
   "source": [
    "# Display the confusion matrix\n",
    "cm = confusion_matrix(y_test, predictions)\n",
    "cm"
   ]
  },
  {
   "cell_type": "code",
   "execution_count": 23,
   "id": "2c4dd5d9",
   "metadata": {},
   "outputs": [
    {
     "name": "stdout",
     "output_type": "stream",
     "text": [
      "                   pre       rec       spe        f1       geo       iba       sup\n",
      "\n",
      "          2       0.00      0.00      1.00      0.00      0.00      0.00         1\n",
      "          3       1.00      0.50      1.00      0.67      0.71      0.48         2\n",
      "          4       0.44      0.57      0.77      0.50      0.66      0.43         7\n",
      "          5       0.50      0.50      0.74      0.50      0.61      0.36        10\n",
      "          6       0.33      0.20      0.92      0.25      0.43      0.17         5\n",
      "          7       0.67      1.00      0.92      0.80      0.96      0.93         4\n",
      "\n",
      "avg / total       0.50      0.52      0.83      0.49      0.62      0.42        29\n",
      "\n"
     ]
    }
   ],
   "source": [
    "# Print the imbalanced classification report\n",
    "\n",
    "from imblearn.metrics import classification_report_imbalanced\n",
    "print(classification_report_imbalanced(y_test, predictions))"
   ]
  },
  {
   "cell_type": "code",
   "execution_count": null,
   "id": "ae480034",
   "metadata": {},
   "outputs": [],
   "source": []
  },
  {
   "cell_type": "markdown",
   "id": "ea78d690",
   "metadata": {},
   "source": []
  },
  {
   "cell_type": "code",
   "execution_count": 28,
   "id": "eca0ec47",
   "metadata": {},
   "outputs": [],
   "source": [
    "#export DataFrame to CSV file\n",
    "df2.to_csv('happiness_top12_df.csv', index=False)"
   ]
  },
  {
   "cell_type": "code",
   "execution_count": null,
   "id": "fdd87a1f",
   "metadata": {},
   "outputs": [],
   "source": []
  },
  {
   "cell_type": "code",
   "execution_count": null,
   "id": "fd932f83",
   "metadata": {},
   "outputs": [],
   "source": []
  }
 ],
 "metadata": {
  "kernelspec": {
   "display_name": "Python 3 (ipykernel)",
   "language": "python",
   "name": "python3"
  },
  "language_info": {
   "codemirror_mode": {
    "name": "ipython",
    "version": 3
   },
   "file_extension": ".py",
   "mimetype": "text/x-python",
   "name": "python",
   "nbconvert_exporter": "python",
   "pygments_lexer": "ipython3",
   "version": "3.9.7"
  }
 },
 "nbformat": 4,
 "nbformat_minor": 5
}
