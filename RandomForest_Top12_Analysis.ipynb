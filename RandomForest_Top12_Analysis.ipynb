{
 "cells": [
  {
   "cell_type": "code",
   "execution_count": 1,
   "id": "57d83984",
   "metadata": {},
   "outputs": [],
   "source": [
    "import psycopg2\n",
    "import pandas as pd\n",
    "import numpy as np\n",
    "from pathlib import Path\n",
    "from collections import Counter\n",
    "\n",
    "import warnings\n",
    "warnings.filterwarnings('ignore')"
   ]
  },
  {
   "cell_type": "code",
   "execution_count": 2,
   "id": "d971fc72",
   "metadata": {},
   "outputs": [],
   "source": [
    "from sklearn.metrics import balanced_accuracy_score\n",
    "from sklearn.metrics import confusion_matrix\n",
    "from imblearn.metrics import classification_report_imbalanced"
   ]
  },
  {
   "cell_type": "markdown",
   "id": "4b9d9fd4",
   "metadata": {},
   "source": [
    "# Connect to Database"
   ]
  },
  {
   "cell_type": "code",
   "execution_count": 3,
   "id": "9c84ed09",
   "metadata": {},
   "outputs": [],
   "source": [
    "#Connect to PgAdmin\n",
    "engine = psycopg2.connect(\n",
    "    database=\"project-data\",\n",
    "    user = \"postgres\",\n",
    "    password = \"Post23!Fnord\",\n",
    "    host = \"happinessproject.cqkpnj5dcmou.us-east-1.rds.amazonaws.com\",\n",
    "    port = '5432'\n",
    "    )\n",
    "\n",
    "cursor = engine.cursor()"
   ]
  },
  {
   "cell_type": "code",
   "execution_count": 4,
   "id": "de0f649d",
   "metadata": {},
   "outputs": [],
   "source": [
    "#Pull combined data table\n",
    "query = \"SELECT * from combined_data\"\n",
    "\n",
    "df = pd.read_sql(query, con=engine)"
   ]
  },
  {
   "cell_type": "code",
   "execution_count": 5,
   "id": "581e31e3",
   "metadata": {},
   "outputs": [
    {
     "data": {
      "text/html": [
       "<div>\n",
       "<style scoped>\n",
       "    .dataframe tbody tr th:only-of-type {\n",
       "        vertical-align: middle;\n",
       "    }\n",
       "\n",
       "    .dataframe tbody tr th {\n",
       "        vertical-align: top;\n",
       "    }\n",
       "\n",
       "    .dataframe thead th {\n",
       "        text-align: right;\n",
       "    }\n",
       "</style>\n",
       "<table border=\"1\" class=\"dataframe\">\n",
       "  <thead>\n",
       "    <tr style=\"text-align: right;\">\n",
       "      <th></th>\n",
       "      <th>country_name</th>\n",
       "      <th>region</th>\n",
       "      <th>ladder_score</th>\n",
       "      <th>stand_err</th>\n",
       "      <th>up_whisker</th>\n",
       "      <th>low_whisker</th>\n",
       "      <th>log_gdp_per_cap</th>\n",
       "      <th>social_support</th>\n",
       "      <th>healty_life_exp</th>\n",
       "      <th>freedom</th>\n",
       "      <th>...</th>\n",
       "      <th>ladder_2011</th>\n",
       "      <th>ladder_2012</th>\n",
       "      <th>ladder_2013</th>\n",
       "      <th>ladder_2014</th>\n",
       "      <th>ladder_2015</th>\n",
       "      <th>ladder_2016</th>\n",
       "      <th>ladder_2017</th>\n",
       "      <th>ladder_2018</th>\n",
       "      <th>ladder_2019</th>\n",
       "      <th>ladder_2020</th>\n",
       "    </tr>\n",
       "  </thead>\n",
       "  <tbody>\n",
       "    <tr>\n",
       "      <th>0</th>\n",
       "      <td>Afghanistan</td>\n",
       "      <td>South Asia</td>\n",
       "      <td>2.523</td>\n",
       "      <td>0.038</td>\n",
       "      <td>2.596</td>\n",
       "      <td>2.449</td>\n",
       "      <td>7.695</td>\n",
       "      <td>0.463</td>\n",
       "      <td>52.493</td>\n",
       "      <td>0.382</td>\n",
       "      <td>...</td>\n",
       "      <td>3.832</td>\n",
       "      <td>3.783</td>\n",
       "      <td>3.572</td>\n",
       "      <td>3.131</td>\n",
       "      <td>3.983</td>\n",
       "      <td>4.220</td>\n",
       "      <td>2.662</td>\n",
       "      <td>2.694</td>\n",
       "      <td>2.375</td>\n",
       "      <td>NaN</td>\n",
       "    </tr>\n",
       "    <tr>\n",
       "      <th>1</th>\n",
       "      <td>Albania</td>\n",
       "      <td>Central and Eastern Europe</td>\n",
       "      <td>5.117</td>\n",
       "      <td>0.059</td>\n",
       "      <td>5.234</td>\n",
       "      <td>5.001</td>\n",
       "      <td>9.520</td>\n",
       "      <td>0.697</td>\n",
       "      <td>68.999</td>\n",
       "      <td>0.785</td>\n",
       "      <td>...</td>\n",
       "      <td>5.867</td>\n",
       "      <td>5.510</td>\n",
       "      <td>4.551</td>\n",
       "      <td>4.814</td>\n",
       "      <td>4.607</td>\n",
       "      <td>4.511</td>\n",
       "      <td>4.640</td>\n",
       "      <td>5.004</td>\n",
       "      <td>4.995</td>\n",
       "      <td>5.365</td>\n",
       "    </tr>\n",
       "    <tr>\n",
       "      <th>2</th>\n",
       "      <td>Algeria</td>\n",
       "      <td>Middle East and North Africa</td>\n",
       "      <td>4.887</td>\n",
       "      <td>0.053</td>\n",
       "      <td>4.991</td>\n",
       "      <td>4.783</td>\n",
       "      <td>9.342</td>\n",
       "      <td>0.802</td>\n",
       "      <td>66.005</td>\n",
       "      <td>0.480</td>\n",
       "      <td>...</td>\n",
       "      <td>5.317</td>\n",
       "      <td>5.605</td>\n",
       "      <td>NaN</td>\n",
       "      <td>6.355</td>\n",
       "      <td>NaN</td>\n",
       "      <td>5.341</td>\n",
       "      <td>5.249</td>\n",
       "      <td>5.043</td>\n",
       "      <td>4.745</td>\n",
       "      <td>NaN</td>\n",
       "    </tr>\n",
       "    <tr>\n",
       "      <th>3</th>\n",
       "      <td>Argentina</td>\n",
       "      <td>Latin America and Caribbean</td>\n",
       "      <td>5.929</td>\n",
       "      <td>0.056</td>\n",
       "      <td>6.040</td>\n",
       "      <td>5.819</td>\n",
       "      <td>9.962</td>\n",
       "      <td>0.898</td>\n",
       "      <td>69.000</td>\n",
       "      <td>0.828</td>\n",
       "      <td>...</td>\n",
       "      <td>6.776</td>\n",
       "      <td>6.468</td>\n",
       "      <td>6.582</td>\n",
       "      <td>6.671</td>\n",
       "      <td>6.697</td>\n",
       "      <td>6.427</td>\n",
       "      <td>6.039</td>\n",
       "      <td>5.793</td>\n",
       "      <td>6.086</td>\n",
       "      <td>5.901</td>\n",
       "    </tr>\n",
       "    <tr>\n",
       "      <th>4</th>\n",
       "      <td>Armenia</td>\n",
       "      <td>Commonwealth of Independent States</td>\n",
       "      <td>5.283</td>\n",
       "      <td>0.058</td>\n",
       "      <td>5.397</td>\n",
       "      <td>5.168</td>\n",
       "      <td>9.487</td>\n",
       "      <td>0.799</td>\n",
       "      <td>67.055</td>\n",
       "      <td>0.825</td>\n",
       "      <td>...</td>\n",
       "      <td>4.260</td>\n",
       "      <td>4.320</td>\n",
       "      <td>4.277</td>\n",
       "      <td>4.453</td>\n",
       "      <td>4.348</td>\n",
       "      <td>4.325</td>\n",
       "      <td>4.288</td>\n",
       "      <td>5.062</td>\n",
       "      <td>5.488</td>\n",
       "      <td>NaN</td>\n",
       "    </tr>\n",
       "  </tbody>\n",
       "</table>\n",
       "<p>5 rows × 55 columns</p>\n",
       "</div>"
      ],
      "text/plain": [
       "  country_name                              region  ladder_score  stand_err  \\\n",
       "0  Afghanistan                          South Asia         2.523      0.038   \n",
       "1      Albania          Central and Eastern Europe         5.117      0.059   \n",
       "2      Algeria        Middle East and North Africa         4.887      0.053   \n",
       "3    Argentina         Latin America and Caribbean         5.929      0.056   \n",
       "4      Armenia  Commonwealth of Independent States         5.283      0.058   \n",
       "\n",
       "   up_whisker  low_whisker  log_gdp_per_cap  social_support  healty_life_exp  \\\n",
       "0       2.596        2.449            7.695           0.463           52.493   \n",
       "1       5.234        5.001            9.520           0.697           68.999   \n",
       "2       4.991        4.783            9.342           0.802           66.005   \n",
       "3       6.040        5.819            9.962           0.898           69.000   \n",
       "4       5.397        5.168            9.487           0.799           67.055   \n",
       "\n",
       "   freedom  ...  ladder_2011  ladder_2012  ladder_2013  ladder_2014  \\\n",
       "0    0.382  ...        3.832        3.783        3.572        3.131   \n",
       "1    0.785  ...        5.867        5.510        4.551        4.814   \n",
       "2    0.480  ...        5.317        5.605          NaN        6.355   \n",
       "3    0.828  ...        6.776        6.468        6.582        6.671   \n",
       "4    0.825  ...        4.260        4.320        4.277        4.453   \n",
       "\n",
       "   ladder_2015  ladder_2016  ladder_2017  ladder_2018  ladder_2019  \\\n",
       "0        3.983        4.220        2.662        2.694        2.375   \n",
       "1        4.607        4.511        4.640        5.004        4.995   \n",
       "2          NaN        5.341        5.249        5.043        4.745   \n",
       "3        6.697        6.427        6.039        5.793        6.086   \n",
       "4        4.348        4.325        4.288        5.062        5.488   \n",
       "\n",
       "   ladder_2020  \n",
       "0          NaN  \n",
       "1        5.365  \n",
       "2          NaN  \n",
       "3        5.901  \n",
       "4          NaN  \n",
       "\n",
       "[5 rows x 55 columns]"
      ]
     },
     "execution_count": 5,
     "metadata": {},
     "output_type": "execute_result"
    }
   ],
   "source": [
    "df.head()"
   ]
  },
  {
   "cell_type": "markdown",
   "id": "dc93f50d",
   "metadata": {},
   "source": [
    "# Clean master table for Machine Learning"
   ]
  },
  {
   "cell_type": "code",
   "execution_count": 6,
   "id": "58cc31e7",
   "metadata": {},
   "outputs": [
    {
     "data": {
      "text/plain": [
       "['country_name',\n",
       " 'region',\n",
       " 'ladder_score',\n",
       " 'stand_err',\n",
       " 'up_whisker',\n",
       " 'low_whisker',\n",
       " 'log_gdp_per_cap',\n",
       " 'social_support',\n",
       " 'healty_life_exp',\n",
       " 'freedom',\n",
       " 'generosity',\n",
       " 'percept_corrupt',\n",
       " 'ladder_score_distopia',\n",
       " 'expby_log_gdp_per_cap',\n",
       " 'expby_social_support',\n",
       " 'expby_healty_life_exp',\n",
       " 'expby_freedom',\n",
       " 'expby_generosity',\n",
       " 'expby_percept_corrupt',\n",
       " 'distopia_plus_resid',\n",
       " 'ac_both_sexes',\n",
       " 'ac_male',\n",
       " 'ac_female',\n",
       " 'population_2021',\n",
       " 'covid_total_cases',\n",
       " 'covid_new_cases',\n",
       " 'covid_total_deaths',\n",
       " 'covid_new_deaths',\n",
       " 'covid_total_recovered',\n",
       " 'covid_new_recovered',\n",
       " 'covid_active_cases',\n",
       " 'covid_serious_critical',\n",
       " 'covid_cases_per_mil',\n",
       " 'covid_deaths_per_mil',\n",
       " 'covid_total_tests',\n",
       " 'covid_tests_per_mil',\n",
       " 'covid_who_region',\n",
       " 'population_2020',\n",
       " 'land_area_skm',\n",
       " 'density_skm',\n",
       " 'meat_consumption',\n",
       " 'median_age',\n",
       " 'screen_time_avg',\n",
       " 'suicide_rate',\n",
       " 'ladder_2010',\n",
       " 'ladder_2011',\n",
       " 'ladder_2012',\n",
       " 'ladder_2013',\n",
       " 'ladder_2014',\n",
       " 'ladder_2015',\n",
       " 'ladder_2016',\n",
       " 'ladder_2017',\n",
       " 'ladder_2018',\n",
       " 'ladder_2019',\n",
       " 'ladder_2020']"
      ]
     },
     "execution_count": 6,
     "metadata": {},
     "output_type": "execute_result"
    }
   ],
   "source": [
    "#column names\n",
    "list(df)"
   ]
  },
  {
   "cell_type": "code",
   "execution_count": 7,
   "id": "6bbdb2fe",
   "metadata": {},
   "outputs": [],
   "source": [
    "df2 = df.filter(['ladder_score', 'healty_life_exp', 'covid_tests_per_mil', 'freedom', 'social_support', 'percept_corrupt', 'log_gdp_per_cap', 'covid_total_tests', 'meat_consumption', 'median_age', 'generosity', 'land_area_skm', 'covid_cases_per_mil'], axis=1)"
   ]
  },
  {
   "cell_type": "code",
   "execution_count": 8,
   "id": "0da49cf8",
   "metadata": {},
   "outputs": [
    {
     "data": {
      "text/plain": [
       "ladder_score            0\n",
       "healty_life_exp         0\n",
       "covid_tests_per_mil    17\n",
       "freedom                 0\n",
       "social_support          0\n",
       "percept_corrupt         0\n",
       "log_gdp_per_cap         0\n",
       "covid_total_tests      17\n",
       "meat_consumption        9\n",
       "median_age              5\n",
       "generosity              0\n",
       "land_area_skm           8\n",
       "covid_cases_per_mil     7\n",
       "dtype: int64"
      ]
     },
     "execution_count": 8,
     "metadata": {},
     "output_type": "execute_result"
    }
   ],
   "source": [
    "# view total null values for columns\n",
    "df2.isna().sum()"
   ]
  },
  {
   "cell_type": "code",
   "execution_count": 9,
   "id": "9ee94031",
   "metadata": {},
   "outputs": [
    {
     "data": {
      "text/plain": [
       "149"
      ]
     },
     "execution_count": 9,
     "metadata": {},
     "output_type": "execute_result"
    }
   ],
   "source": [
    "#compare NA values to dataset row count\n",
    "len(df2)"
   ]
  },
  {
   "cell_type": "code",
   "execution_count": 10,
   "id": "60d77859",
   "metadata": {},
   "outputs": [],
   "source": [
    "#drop all rows containing NA values\n",
    "df2 = df2.dropna()"
   ]
  },
  {
   "cell_type": "code",
   "execution_count": 11,
   "id": "6207432f",
   "metadata": {},
   "outputs": [
    {
     "data": {
      "text/plain": [
       "ladder_score           0\n",
       "healty_life_exp        0\n",
       "covid_tests_per_mil    0\n",
       "freedom                0\n",
       "social_support         0\n",
       "percept_corrupt        0\n",
       "log_gdp_per_cap        0\n",
       "covid_total_tests      0\n",
       "meat_consumption       0\n",
       "median_age             0\n",
       "generosity             0\n",
       "land_area_skm          0\n",
       "covid_cases_per_mil    0\n",
       "dtype: int64"
      ]
     },
     "execution_count": 11,
     "metadata": {},
     "output_type": "execute_result"
    }
   ],
   "source": [
    "# view total null values for columns\n",
    "df2.isna().sum()"
   ]
  },
  {
   "cell_type": "code",
   "execution_count": 12,
   "id": "75901b81",
   "metadata": {},
   "outputs": [
    {
     "data": {
      "text/plain": [
       "125"
      ]
     },
     "execution_count": 12,
     "metadata": {},
     "output_type": "execute_result"
    }
   ],
   "source": [
    "#length of final dataset for analysis \n",
    "len(df2)"
   ]
  },
  {
   "cell_type": "markdown",
   "id": "834c0916",
   "metadata": {},
   "source": [
    "# Random Forest: Find the 10 variables that impact happiness scores the most "
   ]
  },
  {
   "cell_type": "code",
   "execution_count": 13,
   "id": "32b0722a",
   "metadata": {},
   "outputs": [],
   "source": [
    "# Create columns and target variables\n",
    "columns = [\n",
    "    'ladder_score', 'healty_life_exp', 'covid_tests_per_mil', 'freedom', 'social_support', 'percept_corrupt', \n",
    "    'log_gdp_per_cap', 'covid_total_tests', 'meat_consumption', 'median_age', 'generosity', 'land_area_skm', \n",
    "    'covid_cases_per_mil'\n",
    "]\n",
    "\n",
    "target = [\"ladder_score\"]"
   ]
  },
  {
   "cell_type": "code",
   "execution_count": 14,
   "id": "c9031dad",
   "metadata": {},
   "outputs": [
    {
     "data": {
      "text/html": [
       "<div>\n",
       "<style scoped>\n",
       "    .dataframe tbody tr th:only-of-type {\n",
       "        vertical-align: middle;\n",
       "    }\n",
       "\n",
       "    .dataframe tbody tr th {\n",
       "        vertical-align: top;\n",
       "    }\n",
       "\n",
       "    .dataframe thead th {\n",
       "        text-align: right;\n",
       "    }\n",
       "</style>\n",
       "<table border=\"1\" class=\"dataframe\">\n",
       "  <thead>\n",
       "    <tr style=\"text-align: right;\">\n",
       "      <th></th>\n",
       "      <th>ladder_score</th>\n",
       "      <th>healty_life_exp</th>\n",
       "      <th>covid_tests_per_mil</th>\n",
       "      <th>freedom</th>\n",
       "      <th>social_support</th>\n",
       "      <th>percept_corrupt</th>\n",
       "      <th>log_gdp_per_cap</th>\n",
       "      <th>covid_total_tests</th>\n",
       "      <th>meat_consumption</th>\n",
       "      <th>median_age</th>\n",
       "      <th>generosity</th>\n",
       "      <th>land_area_skm</th>\n",
       "      <th>covid_cases_per_mil</th>\n",
       "    </tr>\n",
       "  </thead>\n",
       "  <tbody>\n",
       "    <tr>\n",
       "      <th>0</th>\n",
       "      <td>2</td>\n",
       "      <td>52.493</td>\n",
       "      <td>2317.0</td>\n",
       "      <td>0.382</td>\n",
       "      <td>0.463</td>\n",
       "      <td>0.924</td>\n",
       "      <td>7.695</td>\n",
       "      <td>90396.0</td>\n",
       "      <td>17.3</td>\n",
       "      <td>27.4</td>\n",
       "      <td>-0.102</td>\n",
       "      <td>652230.0</td>\n",
       "      <td>946.0</td>\n",
       "    </tr>\n",
       "    <tr>\n",
       "      <th>3</th>\n",
       "      <td>5</td>\n",
       "      <td>69.000</td>\n",
       "      <td>17564.0</td>\n",
       "      <td>0.828</td>\n",
       "      <td>0.898</td>\n",
       "      <td>0.834</td>\n",
       "      <td>9.962</td>\n",
       "      <td>794544.0</td>\n",
       "      <td>79.7</td>\n",
       "      <td>31.7</td>\n",
       "      <td>-0.182</td>\n",
       "      <td>2780400.0</td>\n",
       "      <td>5044.0</td>\n",
       "    </tr>\n",
       "    <tr>\n",
       "      <th>4</th>\n",
       "      <td>5</td>\n",
       "      <td>67.055</td>\n",
       "      <td>57898.0</td>\n",
       "      <td>0.825</td>\n",
       "      <td>0.799</td>\n",
       "      <td>0.629</td>\n",
       "      <td>9.487</td>\n",
       "      <td>171600.0</td>\n",
       "      <td>27.7</td>\n",
       "      <td>35.1</td>\n",
       "      <td>-0.168</td>\n",
       "      <td>29743.0</td>\n",
       "      <td>13435.0</td>\n",
       "    </tr>\n",
       "    <tr>\n",
       "      <th>5</th>\n",
       "      <td>7</td>\n",
       "      <td>73.900</td>\n",
       "      <td>181419.0</td>\n",
       "      <td>0.914</td>\n",
       "      <td>0.940</td>\n",
       "      <td>0.442</td>\n",
       "      <td>10.796</td>\n",
       "      <td>4631419.0</td>\n",
       "      <td>108.2</td>\n",
       "      <td>38.7</td>\n",
       "      <td>0.159</td>\n",
       "      <td>7741220.0</td>\n",
       "      <td>779.0</td>\n",
       "    </tr>\n",
       "    <tr>\n",
       "      <th>6</th>\n",
       "      <td>7</td>\n",
       "      <td>73.300</td>\n",
       "      <td>104008.0</td>\n",
       "      <td>0.908</td>\n",
       "      <td>0.934</td>\n",
       "      <td>0.481</td>\n",
       "      <td>10.906</td>\n",
       "      <td>937275.0</td>\n",
       "      <td>94.1</td>\n",
       "      <td>44.0</td>\n",
       "      <td>0.042</td>\n",
       "      <td>83871.0</td>\n",
       "      <td>2408.0</td>\n",
       "    </tr>\n",
       "  </tbody>\n",
       "</table>\n",
       "</div>"
      ],
      "text/plain": [
       "   ladder_score  healty_life_exp  covid_tests_per_mil  freedom  \\\n",
       "0             2           52.493               2317.0    0.382   \n",
       "3             5           69.000              17564.0    0.828   \n",
       "4             5           67.055              57898.0    0.825   \n",
       "5             7           73.900             181419.0    0.914   \n",
       "6             7           73.300             104008.0    0.908   \n",
       "\n",
       "   social_support  percept_corrupt  log_gdp_per_cap  covid_total_tests  \\\n",
       "0           0.463            0.924            7.695            90396.0   \n",
       "3           0.898            0.834            9.962           794544.0   \n",
       "4           0.799            0.629            9.487           171600.0   \n",
       "5           0.940            0.442           10.796          4631419.0   \n",
       "6           0.934            0.481           10.906           937275.0   \n",
       "\n",
       "   meat_consumption  median_age  generosity  land_area_skm  \\\n",
       "0              17.3        27.4      -0.102       652230.0   \n",
       "3              79.7        31.7      -0.182      2780400.0   \n",
       "4              27.7        35.1      -0.168        29743.0   \n",
       "5             108.2        38.7       0.159      7741220.0   \n",
       "6              94.1        44.0       0.042        83871.0   \n",
       "\n",
       "   covid_cases_per_mil  \n",
       "0                946.0  \n",
       "3               5044.0  \n",
       "4              13435.0  \n",
       "5                779.0  \n",
       "6               2408.0  "
      ]
     },
     "execution_count": 14,
     "metadata": {},
     "output_type": "execute_result"
    }
   ],
   "source": [
    "#Convert variable type for target to non-continuous dtype\n",
    "df2 = df2.astype({'ladder_score':'int'})\n",
    "\n",
    "df2.head()"
   ]
  },
  {
   "cell_type": "code",
   "execution_count": 15,
   "id": "0734cdc9",
   "metadata": {},
   "outputs": [],
   "source": [
    "# Create our features\n",
    "X = pd.get_dummies(df2.drop(columns=\"ladder_score\"))\n",
    "\n",
    "\n",
    "# Create our target\n",
    "y = df2[\"ladder_score\"]"
   ]
  },
  {
   "cell_type": "code",
   "execution_count": 16,
   "id": "75c00eb3",
   "metadata": {},
   "outputs": [
    {
     "data": {
      "text/html": [
       "<div>\n",
       "<style scoped>\n",
       "    .dataframe tbody tr th:only-of-type {\n",
       "        vertical-align: middle;\n",
       "    }\n",
       "\n",
       "    .dataframe tbody tr th {\n",
       "        vertical-align: top;\n",
       "    }\n",
       "\n",
       "    .dataframe thead th {\n",
       "        text-align: right;\n",
       "    }\n",
       "</style>\n",
       "<table border=\"1\" class=\"dataframe\">\n",
       "  <thead>\n",
       "    <tr style=\"text-align: right;\">\n",
       "      <th></th>\n",
       "      <th>healty_life_exp</th>\n",
       "      <th>covid_tests_per_mil</th>\n",
       "      <th>freedom</th>\n",
       "      <th>social_support</th>\n",
       "      <th>percept_corrupt</th>\n",
       "      <th>log_gdp_per_cap</th>\n",
       "      <th>covid_total_tests</th>\n",
       "      <th>meat_consumption</th>\n",
       "      <th>median_age</th>\n",
       "      <th>generosity</th>\n",
       "      <th>land_area_skm</th>\n",
       "      <th>covid_cases_per_mil</th>\n",
       "    </tr>\n",
       "  </thead>\n",
       "  <tbody>\n",
       "    <tr>\n",
       "      <th>count</th>\n",
       "      <td>125.000000</td>\n",
       "      <td>125.000000</td>\n",
       "      <td>125.000000</td>\n",
       "      <td>125.000000</td>\n",
       "      <td>125.000000</td>\n",
       "      <td>125.000000</td>\n",
       "      <td>1.250000e+02</td>\n",
       "      <td>125.00000</td>\n",
       "      <td>125.00000</td>\n",
       "      <td>125.000000</td>\n",
       "      <td>1.250000e+02</td>\n",
       "      <td>125.00000</td>\n",
       "    </tr>\n",
       "    <tr>\n",
       "      <th>mean</th>\n",
       "      <td>65.487200</td>\n",
       "      <td>76278.640000</td>\n",
       "      <td>0.800048</td>\n",
       "      <td>0.821624</td>\n",
       "      <td>0.722704</td>\n",
       "      <td>9.520368</td>\n",
       "      <td>2.105374e+06</td>\n",
       "      <td>47.71760</td>\n",
       "      <td>30.99280</td>\n",
       "      <td>-0.022264</td>\n",
       "      <td>8.620060e+05</td>\n",
       "      <td>3343.96800</td>\n",
       "    </tr>\n",
       "    <tr>\n",
       "      <th>std</th>\n",
       "      <td>6.429815</td>\n",
       "      <td>125386.061457</td>\n",
       "      <td>0.112330</td>\n",
       "      <td>0.115561</td>\n",
       "      <td>0.188043</td>\n",
       "      <td>1.146408</td>\n",
       "      <td>6.767493e+06</td>\n",
       "      <td>35.43999</td>\n",
       "      <td>8.90933</td>\n",
       "      <td>0.148387</td>\n",
       "      <td>2.197486e+06</td>\n",
       "      <td>4456.51166</td>\n",
       "    </tr>\n",
       "    <tr>\n",
       "      <th>min</th>\n",
       "      <td>48.700000</td>\n",
       "      <td>4.000000</td>\n",
       "      <td>0.382000</td>\n",
       "      <td>0.463000</td>\n",
       "      <td>0.082000</td>\n",
       "      <td>6.635000</td>\n",
       "      <td>1.200000e+02</td>\n",
       "      <td>3.10000</td>\n",
       "      <td>15.40000</td>\n",
       "      <td>-0.288000</td>\n",
       "      <td>2.980000e+02</td>\n",
       "      <td>3.00000</td>\n",
       "    </tr>\n",
       "    <tr>\n",
       "      <th>25%</th>\n",
       "      <td>60.704000</td>\n",
       "      <td>8677.000000</td>\n",
       "      <td>0.731000</td>\n",
       "      <td>0.764000</td>\n",
       "      <td>0.667000</td>\n",
       "      <td>8.755000</td>\n",
       "      <td>1.253170e+05</td>\n",
       "      <td>17.60000</td>\n",
       "      <td>23.80000</td>\n",
       "      <td>-0.133000</td>\n",
       "      <td>5.678500e+04</td>\n",
       "      <td>386.00000</td>\n",
       "    </tr>\n",
       "    <tr>\n",
       "      <th>50%</th>\n",
       "      <td>66.900000</td>\n",
       "      <td>36535.000000</td>\n",
       "      <td>0.822000</td>\n",
       "      <td>0.844000</td>\n",
       "      <td>0.787000</td>\n",
       "      <td>9.590000</td>\n",
       "      <td>3.525460e+05</td>\n",
       "      <td>39.00000</td>\n",
       "      <td>30.20000</td>\n",
       "      <td>-0.046000</td>\n",
       "      <td>2.385330e+05</td>\n",
       "      <td>1317.00000</td>\n",
       "    </tr>\n",
       "    <tr>\n",
       "      <th>75%</th>\n",
       "      <td>70.000000</td>\n",
       "      <td>92626.000000</td>\n",
       "      <td>0.890000</td>\n",
       "      <td>0.913000</td>\n",
       "      <td>0.845000</td>\n",
       "      <td>10.499000</td>\n",
       "      <td>1.383816e+06</td>\n",
       "      <td>71.10000</td>\n",
       "      <td>39.60000</td>\n",
       "      <td>0.079000</td>\n",
       "      <td>7.165500e+05</td>\n",
       "      <td>5044.00000</td>\n",
       "    </tr>\n",
       "    <tr>\n",
       "      <th>max</th>\n",
       "      <td>76.953000</td>\n",
       "      <td>995282.000000</td>\n",
       "      <td>0.970000</td>\n",
       "      <td>0.983000</td>\n",
       "      <td>0.939000</td>\n",
       "      <td>11.647000</td>\n",
       "      <td>6.313960e+07</td>\n",
       "      <td>145.90000</td>\n",
       "      <td>47.30000</td>\n",
       "      <td>0.542000</td>\n",
       "      <td>1.709824e+07</td>\n",
       "      <td>25130.00000</td>\n",
       "    </tr>\n",
       "  </tbody>\n",
       "</table>\n",
       "</div>"
      ],
      "text/plain": [
       "       healty_life_exp  covid_tests_per_mil     freedom  social_support  \\\n",
       "count       125.000000           125.000000  125.000000      125.000000   \n",
       "mean         65.487200         76278.640000    0.800048        0.821624   \n",
       "std           6.429815        125386.061457    0.112330        0.115561   \n",
       "min          48.700000             4.000000    0.382000        0.463000   \n",
       "25%          60.704000          8677.000000    0.731000        0.764000   \n",
       "50%          66.900000         36535.000000    0.822000        0.844000   \n",
       "75%          70.000000         92626.000000    0.890000        0.913000   \n",
       "max          76.953000        995282.000000    0.970000        0.983000   \n",
       "\n",
       "       percept_corrupt  log_gdp_per_cap  covid_total_tests  meat_consumption  \\\n",
       "count       125.000000       125.000000       1.250000e+02         125.00000   \n",
       "mean          0.722704         9.520368       2.105374e+06          47.71760   \n",
       "std           0.188043         1.146408       6.767493e+06          35.43999   \n",
       "min           0.082000         6.635000       1.200000e+02           3.10000   \n",
       "25%           0.667000         8.755000       1.253170e+05          17.60000   \n",
       "50%           0.787000         9.590000       3.525460e+05          39.00000   \n",
       "75%           0.845000        10.499000       1.383816e+06          71.10000   \n",
       "max           0.939000        11.647000       6.313960e+07         145.90000   \n",
       "\n",
       "       median_age  generosity  land_area_skm  covid_cases_per_mil  \n",
       "count   125.00000  125.000000   1.250000e+02            125.00000  \n",
       "mean     30.99280   -0.022264   8.620060e+05           3343.96800  \n",
       "std       8.90933    0.148387   2.197486e+06           4456.51166  \n",
       "min      15.40000   -0.288000   2.980000e+02              3.00000  \n",
       "25%      23.80000   -0.133000   5.678500e+04            386.00000  \n",
       "50%      30.20000   -0.046000   2.385330e+05           1317.00000  \n",
       "75%      39.60000    0.079000   7.165500e+05           5044.00000  \n",
       "max      47.30000    0.542000   1.709824e+07          25130.00000  "
      ]
     },
     "execution_count": 16,
     "metadata": {},
     "output_type": "execute_result"
    }
   ],
   "source": [
    "X.describe()"
   ]
  },
  {
   "cell_type": "code",
   "execution_count": 17,
   "id": "481a1204",
   "metadata": {},
   "outputs": [
    {
     "data": {
      "text/plain": [
       "5    39\n",
       "6    31\n",
       "4    28\n",
       "7    17\n",
       "3     9\n",
       "2     1\n",
       "Name: ladder_score, dtype: int64"
      ]
     },
     "execution_count": 17,
     "metadata": {},
     "output_type": "execute_result"
    }
   ],
   "source": [
    "# Check the balance of our target values\n",
    "y.value_counts()"
   ]
  },
  {
   "cell_type": "code",
   "execution_count": 18,
   "id": "651fdccd",
   "metadata": {},
   "outputs": [
    {
     "data": {
      "text/plain": [
       "Counter({3: 7, 5: 33, 6: 20, 4: 19, 7: 13, 2: 1})"
      ]
     },
     "execution_count": 18,
     "metadata": {},
     "output_type": "execute_result"
    }
   ],
   "source": [
    "from sklearn.model_selection import train_test_split\n",
    "X_train, X_test, y_train, y_test = train_test_split(X, y, random_state=1)\n",
    "Counter(y_train)"
   ]
  },
  {
   "cell_type": "code",
   "execution_count": 19,
   "id": "05a5849a",
   "metadata": {},
   "outputs": [],
   "source": [
    "# Resample the training data with the BalancedRandomForestClassifier\n",
    "from sklearn.ensemble import RandomForestClassifier\n",
    "rf_model = RandomForestClassifier(n_estimators=128, random_state=78) \n",
    "\n",
    "# Creating a StandardScaler instance.\n",
    "from sklearn.preprocessing import StandardScaler\n",
    "scaler = StandardScaler()\n",
    "# Fitting the Standard Scaler with the training data.\n",
    "X_scaler = scaler.fit(X_train)\n",
    "\n",
    "# Scaling the data.\n",
    "X_train_scaled = X_scaler.transform(X_train)\n",
    "X_test_scaled = X_scaler.transform(X_test)\n",
    "\n",
    "# Fitting the model\n",
    "rf_model = rf_model.fit(X_train_scaled, y_train)\n",
    "\n",
    "# Making predictions using the testing data.\n",
    "predictions = rf_model.predict(X_test_scaled)"
   ]
  },
  {
   "cell_type": "code",
   "execution_count": 20,
   "id": "d31edfbb",
   "metadata": {},
   "outputs": [
    {
     "data": {
      "text/plain": [
       "0.45353535353535357"
      ]
     },
     "execution_count": 20,
     "metadata": {},
     "output_type": "execute_result"
    }
   ],
   "source": [
    "# Calculated the balanced accuracy score\n",
    "acc_score = balanced_accuracy_score(y_test, predictions)\n",
    "acc_score"
   ]
  },
  {
   "cell_type": "code",
   "execution_count": 21,
   "id": "d4a45684",
   "metadata": {},
   "outputs": [
    {
     "data": {
      "text/plain": [
       "array([[0, 1, 1, 0, 0],\n",
       "       [1, 5, 3, 0, 0],\n",
       "       [1, 0, 4, 1, 0],\n",
       "       [0, 0, 4, 6, 1],\n",
       "       [0, 0, 0, 2, 2]], dtype=int64)"
      ]
     },
     "execution_count": 21,
     "metadata": {},
     "output_type": "execute_result"
    }
   ],
   "source": [
    "# Display the confusion matrix\n",
    "cm = confusion_matrix(y_test, predictions)\n",
    "cm"
   ]
  },
  {
   "cell_type": "code",
   "execution_count": 22,
   "id": "2c4dd5d9",
   "metadata": {},
   "outputs": [
    {
     "name": "stdout",
     "output_type": "stream",
     "text": [
      "                   pre       rec       spe        f1       geo       iba       sup\n",
      "\n",
      "          3       0.00      0.00      0.93      0.00      0.00      0.00         2\n",
      "          4       0.83      0.56      0.96      0.67      0.73      0.51         9\n",
      "          5       0.33      0.67      0.69      0.44      0.68      0.46         6\n",
      "          6       0.67      0.55      0.86      0.60      0.68      0.45        11\n",
      "          7       0.67      0.50      0.96      0.57      0.69      0.46         4\n",
      "\n",
      "avg / total       0.61      0.53      0.87      0.55      0.65      0.44        32\n",
      "\n"
     ]
    }
   ],
   "source": [
    "# Print the imbalanced classification report\n",
    "\n",
    "from imblearn.metrics import classification_report_imbalanced\n",
    "print(classification_report_imbalanced(y_test, predictions))"
   ]
  },
  {
   "cell_type": "code",
   "execution_count": null,
   "id": "ae480034",
   "metadata": {},
   "outputs": [],
   "source": []
  },
  {
   "cell_type": "markdown",
   "id": "ea78d690",
   "metadata": {},
   "source": []
  },
  {
   "cell_type": "code",
   "execution_count": 23,
   "id": "eca0ec47",
   "metadata": {},
   "outputs": [],
   "source": [
    "#export DataFrame to CSV file\n",
    "df2.to_csv('happiness_top12_df.csv', index=False)"
   ]
  },
  {
   "cell_type": "code",
   "execution_count": null,
   "id": "fdd87a1f",
   "metadata": {},
   "outputs": [],
   "source": []
  },
  {
   "cell_type": "code",
   "execution_count": null,
   "id": "fd932f83",
   "metadata": {},
   "outputs": [],
   "source": []
  }
 ],
 "metadata": {
  "kernelspec": {
   "display_name": "Python 3 (ipykernel)",
   "language": "python",
   "name": "python3"
  },
  "language_info": {
   "codemirror_mode": {
    "name": "ipython",
    "version": 3
   },
   "file_extension": ".py",
   "mimetype": "text/x-python",
   "name": "python",
   "nbconvert_exporter": "python",
   "pygments_lexer": "ipython3",
   "version": "3.9.7"
  }
 },
 "nbformat": 4,
 "nbformat_minor": 5
}
