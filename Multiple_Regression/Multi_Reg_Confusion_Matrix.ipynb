{
 "cells": [
  {
   "cell_type": "code",
   "execution_count": 31,
   "id": "6aeba60e",
   "metadata": {},
   "outputs": [],
   "source": [
    "# Import library\n",
    "import pandas  as pd #Data manipulation\n",
    "import numpy as np #Data manipulation\n",
    "import matplotlib.pyplot as plt # Visualization\n",
    "import seaborn as sns #Visualization\n",
    "plt.rcParams['figure.figsize'] = [8,5]\n",
    "plt.rcParams['font.size'] =14\n",
    "plt.rcParams['font.weight']= 'bold'\n",
    "plt.style.use('seaborn-whitegrid')"
   ]
  },
  {
   "cell_type": "markdown",
   "id": "3bc9603c",
   "metadata": {},
   "source": [
    "# Import and Clean dataframe for Confusion Matrix"
   ]
  },
  {
   "cell_type": "code",
   "execution_count": 45,
   "id": "3e0dac9f",
   "metadata": {},
   "outputs": [],
   "source": [
    "# Import Predicted vs observed values dataframe that was created through Multi Regression in RStudio\n",
    "multi_reg_df= \"Mult_Reg_Predictions2.csv\""
   ]
  },
  {
   "cell_type": "code",
   "execution_count": 47,
   "id": "6ecbd602",
   "metadata": {},
   "outputs": [],
   "source": [
    "#Convert file to df\n",
    "df = pd.read_csv(multi_reg_df)"
   ]
  },
  {
   "cell_type": "code",
   "execution_count": 49,
   "id": "f1f4c233",
   "metadata": {},
   "outputs": [
    {
     "data": {
      "text/plain": [
       "2     1\n",
       "7     3\n",
       "3    18\n",
       "6    22\n",
       "4    35\n",
       "5    45\n",
       "Name: Predicted, dtype: int64"
      ]
     },
     "execution_count": 49,
     "metadata": {},
     "output_type": "execute_result"
    }
   ],
   "source": [
    "# Check the count of our predicted values\n",
    "df['Predicted'].value_counts(ascending=True)"
   ]
  },
  {
   "cell_type": "code",
   "execution_count": 41,
   "id": "a54141f4",
   "metadata": {},
   "outputs": [
    {
     "data": {
      "text/plain": [
       "3     8\n",
       "7    17\n",
       "4    28\n",
       "6    31\n",
       "5    39\n",
       "Name: Observed, dtype: int64"
      ]
     },
     "execution_count": 41,
     "metadata": {},
     "output_type": "execute_result"
    }
   ],
   "source": [
    "# Check the count of our target values\n",
    "df['Observed'].value_counts(ascending=True)"
   ]
  },
  {
   "cell_type": "code",
   "execution_count": 51,
   "id": "e833f3e4",
   "metadata": {},
   "outputs": [
    {
     "data": {
      "text/plain": [
       "7     3\n",
       "3    18\n",
       "6    22\n",
       "4    35\n",
       "5    45\n",
       "Name: Predicted, dtype: int64"
      ]
     },
     "execution_count": 51,
     "metadata": {},
     "output_type": "execute_result"
    }
   ],
   "source": [
    "#Dimension of rows and columns for matrix must be the same, drop row with predicted value of 2\n",
    "df = df[df.Predicted != 2]\n",
    "# Recheck the count of our target values\n",
    "df['Predicted'].value_counts(ascending=True)"
   ]
  },
  {
   "cell_type": "markdown",
   "id": "8856d669",
   "metadata": {},
   "source": [
    "# Create Confusion Matrix"
   ]
  },
  {
   "cell_type": "code",
   "execution_count": 43,
   "id": "67dd63ef",
   "metadata": {},
   "outputs": [],
   "source": [
    "from sklearn.metrics import confusion_matrix, accuracy_score, classification_report"
   ]
  },
  {
   "cell_type": "code",
   "execution_count": 44,
   "id": "0a5e5273",
   "metadata": {},
   "outputs": [
    {
     "data": {
      "text/plain": [
       "<AxesSubplot:>"
      ]
     },
     "execution_count": 44,
     "metadata": {},
     "output_type": "execute_result"
    },
    {
     "data": {
      "image/png": "[encoded data removed]",
      "text/plain": [
       "<Figure size 576x360 with 2 Axes>"
      ]
     },
     "metadata": {},
     "output_type": "display_data"
    }
   ],
   "source": [
    "    cm = confusion_matrix(df.Observed, df.Predicted)\n",
    "    cm_df = pd.DataFrame(\n",
    "    cm, index=[\"Actual 3\", \"Actual 4\", \"Actual 5\", \"Actual 6\", \"Actual 7\"], \n",
    "    columns=[\"Predicted 3\", \"Predicted 4\", \"Predicted 5\", \"Predicted 6\", \"Predicted 7\"]\n",
    "    )\n",
    "    sns.heatmap(cm_df, annot=True)"
   ]
  }
 ],
 "metadata": {
  "kernelspec": {
   "display_name": "Python 3 (ipykernel)",
   "language": "python",
   "name": "python3"
  },
  "language_info": {
   "codemirror_mode": {
    "name": "ipython",
    "version": 3
   },
   "file_extension": ".py",
   "mimetype": "text/x-python",
   "name": "python",
   "nbconvert_exporter": "python",
   "pygments_lexer": "ipython3",
   "version": "3.9.7"
  }
 },
 "nbformat": 4,
 "nbformat_minor": 5
}
