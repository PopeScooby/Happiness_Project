{
 "cells": [
  {
   "cell_type": "markdown",
   "id": "a0fe8dd2",
   "metadata": {},
   "source": [
    "# Decision Tree Model"
   ]
  },
  {
   "cell_type": "code",
   "execution_count": 1,
   "id": "1a7b9784",
   "metadata": {},
   "outputs": [],
   "source": [
    "# Initial imports\n",
    "import pandas as pd\n",
    "from path import Path\n",
    "from sklearn import tree\n",
    "from sklearn.preprocessing import StandardScaler\n",
    "from sklearn.model_selection import train_test_split\n",
    "from sklearn.metrics import confusion_matrix, accuracy_score, classification_report"
   ]
  },
  {
   "cell_type": "markdown",
   "id": "539fa8e7",
   "metadata": {},
   "source": [
    "# Loading and Preprocessing Data"
   ]
  },
  {
   "cell_type": "code",
   "execution_count": 2,
   "id": "5ab9ad7e",
   "metadata": {},
   "outputs": [
    {
     "data": {
      "text/html": [
       "<div>\n",
       "<style scoped>\n",
       "    .dataframe tbody tr th:only-of-type {\n",
       "        vertical-align: middle;\n",
       "    }\n",
       "\n",
       "    .dataframe tbody tr th {\n",
       "        vertical-align: top;\n",
       "    }\n",
       "\n",
       "    .dataframe thead th {\n",
       "        text-align: right;\n",
       "    }\n",
       "</style>\n",
       "<table border=\"1\" class=\"dataframe\">\n",
       "  <thead>\n",
       "    <tr style=\"text-align: right;\">\n",
       "      <th></th>\n",
       "      <th>ladder_score</th>\n",
       "      <th>healty_life_exp</th>\n",
       "      <th>covid_tests_per_mil</th>\n",
       "      <th>freedom</th>\n",
       "      <th>social_support</th>\n",
       "      <th>percept_corrupt</th>\n",
       "      <th>log_gdp_per_cap</th>\n",
       "      <th>covid_total_tests</th>\n",
       "      <th>meat_consumption</th>\n",
       "      <th>median_age</th>\n",
       "      <th>generosity</th>\n",
       "      <th>land_area_skm</th>\n",
       "      <th>covid_cases_per_mil</th>\n",
       "    </tr>\n",
       "  </thead>\n",
       "  <tbody>\n",
       "    <tr>\n",
       "      <th>0</th>\n",
       "      <td>2</td>\n",
       "      <td>52.493</td>\n",
       "      <td>2317.0</td>\n",
       "      <td>0.382</td>\n",
       "      <td>0.463</td>\n",
       "      <td>0.924</td>\n",
       "      <td>7.695</td>\n",
       "      <td>90396.0</td>\n",
       "      <td>17.3</td>\n",
       "      <td>27.4</td>\n",
       "      <td>-0.102</td>\n",
       "      <td>652230.0</td>\n",
       "      <td>946.0</td>\n",
       "    </tr>\n",
       "    <tr>\n",
       "      <th>1</th>\n",
       "      <td>5</td>\n",
       "      <td>69.000</td>\n",
       "      <td>17564.0</td>\n",
       "      <td>0.828</td>\n",
       "      <td>0.898</td>\n",
       "      <td>0.834</td>\n",
       "      <td>9.962</td>\n",
       "      <td>794544.0</td>\n",
       "      <td>79.7</td>\n",
       "      <td>31.7</td>\n",
       "      <td>-0.182</td>\n",
       "      <td>2780400.0</td>\n",
       "      <td>5044.0</td>\n",
       "    </tr>\n",
       "    <tr>\n",
       "      <th>2</th>\n",
       "      <td>5</td>\n",
       "      <td>67.055</td>\n",
       "      <td>57898.0</td>\n",
       "      <td>0.825</td>\n",
       "      <td>0.799</td>\n",
       "      <td>0.629</td>\n",
       "      <td>9.487</td>\n",
       "      <td>171600.0</td>\n",
       "      <td>27.7</td>\n",
       "      <td>35.1</td>\n",
       "      <td>-0.168</td>\n",
       "      <td>29743.0</td>\n",
       "      <td>13435.0</td>\n",
       "    </tr>\n",
       "    <tr>\n",
       "      <th>3</th>\n",
       "      <td>7</td>\n",
       "      <td>73.900</td>\n",
       "      <td>181419.0</td>\n",
       "      <td>0.914</td>\n",
       "      <td>0.940</td>\n",
       "      <td>0.442</td>\n",
       "      <td>10.796</td>\n",
       "      <td>4631419.0</td>\n",
       "      <td>108.2</td>\n",
       "      <td>38.7</td>\n",
       "      <td>0.159</td>\n",
       "      <td>7741220.0</td>\n",
       "      <td>779.0</td>\n",
       "    </tr>\n",
       "    <tr>\n",
       "      <th>4</th>\n",
       "      <td>7</td>\n",
       "      <td>73.300</td>\n",
       "      <td>104008.0</td>\n",
       "      <td>0.908</td>\n",
       "      <td>0.934</td>\n",
       "      <td>0.481</td>\n",
       "      <td>10.906</td>\n",
       "      <td>937275.0</td>\n",
       "      <td>94.1</td>\n",
       "      <td>44.0</td>\n",
       "      <td>0.042</td>\n",
       "      <td>83871.0</td>\n",
       "      <td>2408.0</td>\n",
       "    </tr>\n",
       "  </tbody>\n",
       "</table>\n",
       "</div>"
      ],
      "text/plain": [
       "   ladder_score  healty_life_exp  covid_tests_per_mil  freedom  \\\n",
       "0             2           52.493               2317.0    0.382   \n",
       "1             5           69.000              17564.0    0.828   \n",
       "2             5           67.055              57898.0    0.825   \n",
       "3             7           73.900             181419.0    0.914   \n",
       "4             7           73.300             104008.0    0.908   \n",
       "\n",
       "   social_support  percept_corrupt  log_gdp_per_cap  covid_total_tests  \\\n",
       "0           0.463            0.924            7.695            90396.0   \n",
       "1           0.898            0.834            9.962           794544.0   \n",
       "2           0.799            0.629            9.487           171600.0   \n",
       "3           0.940            0.442           10.796          4631419.0   \n",
       "4           0.934            0.481           10.906           937275.0   \n",
       "\n",
       "   meat_consumption  median_age  generosity  land_area_skm  \\\n",
       "0              17.3        27.4      -0.102       652230.0   \n",
       "1              79.7        31.7      -0.182      2780400.0   \n",
       "2              27.7        35.1      -0.168        29743.0   \n",
       "3             108.2        38.7       0.159      7741220.0   \n",
       "4              94.1        44.0       0.042        83871.0   \n",
       "\n",
       "   covid_cases_per_mil  \n",
       "0                946.0  \n",
       "1               5044.0  \n",
       "2              13435.0  \n",
       "3                779.0  \n",
       "4               2408.0  "
      ]
     },
     "execution_count": 2,
     "metadata": {},
     "output_type": "execute_result"
    }
   ],
   "source": [
    "# Loading data\n",
    "file_path = Path(\"happiness_top12_df.csv\")\n",
    "df = pd.read_csv(file_path)\n",
    "df.head()"
   ]
  },
  {
   "cell_type": "code",
   "execution_count": 3,
   "id": "252c6658",
   "metadata": {},
   "outputs": [
    {
     "data": {
      "text/html": [
       "<div>\n",
       "<style scoped>\n",
       "    .dataframe tbody tr th:only-of-type {\n",
       "        vertical-align: middle;\n",
       "    }\n",
       "\n",
       "    .dataframe tbody tr th {\n",
       "        vertical-align: top;\n",
       "    }\n",
       "\n",
       "    .dataframe thead th {\n",
       "        text-align: right;\n",
       "    }\n",
       "</style>\n",
       "<table border=\"1\" class=\"dataframe\">\n",
       "  <thead>\n",
       "    <tr style=\"text-align: right;\">\n",
       "      <th></th>\n",
       "      <th>healty_life_exp</th>\n",
       "      <th>covid_tests_per_mil</th>\n",
       "      <th>freedom</th>\n",
       "      <th>social_support</th>\n",
       "      <th>percept_corrupt</th>\n",
       "      <th>log_gdp_per_cap</th>\n",
       "      <th>covid_total_tests</th>\n",
       "      <th>meat_consumption</th>\n",
       "      <th>median_age</th>\n",
       "      <th>generosity</th>\n",
       "      <th>land_area_skm</th>\n",
       "      <th>covid_cases_per_mil</th>\n",
       "    </tr>\n",
       "  </thead>\n",
       "  <tbody>\n",
       "    <tr>\n",
       "      <th>0</th>\n",
       "      <td>52.493</td>\n",
       "      <td>2317.0</td>\n",
       "      <td>0.382</td>\n",
       "      <td>0.463</td>\n",
       "      <td>0.924</td>\n",
       "      <td>7.695</td>\n",
       "      <td>90396.0</td>\n",
       "      <td>17.3</td>\n",
       "      <td>27.4</td>\n",
       "      <td>-0.102</td>\n",
       "      <td>652230.0</td>\n",
       "      <td>946.0</td>\n",
       "    </tr>\n",
       "    <tr>\n",
       "      <th>1</th>\n",
       "      <td>69.000</td>\n",
       "      <td>17564.0</td>\n",
       "      <td>0.828</td>\n",
       "      <td>0.898</td>\n",
       "      <td>0.834</td>\n",
       "      <td>9.962</td>\n",
       "      <td>794544.0</td>\n",
       "      <td>79.7</td>\n",
       "      <td>31.7</td>\n",
       "      <td>-0.182</td>\n",
       "      <td>2780400.0</td>\n",
       "      <td>5044.0</td>\n",
       "    </tr>\n",
       "    <tr>\n",
       "      <th>2</th>\n",
       "      <td>67.055</td>\n",
       "      <td>57898.0</td>\n",
       "      <td>0.825</td>\n",
       "      <td>0.799</td>\n",
       "      <td>0.629</td>\n",
       "      <td>9.487</td>\n",
       "      <td>171600.0</td>\n",
       "      <td>27.7</td>\n",
       "      <td>35.1</td>\n",
       "      <td>-0.168</td>\n",
       "      <td>29743.0</td>\n",
       "      <td>13435.0</td>\n",
       "    </tr>\n",
       "    <tr>\n",
       "      <th>3</th>\n",
       "      <td>73.900</td>\n",
       "      <td>181419.0</td>\n",
       "      <td>0.914</td>\n",
       "      <td>0.940</td>\n",
       "      <td>0.442</td>\n",
       "      <td>10.796</td>\n",
       "      <td>4631419.0</td>\n",
       "      <td>108.2</td>\n",
       "      <td>38.7</td>\n",
       "      <td>0.159</td>\n",
       "      <td>7741220.0</td>\n",
       "      <td>779.0</td>\n",
       "    </tr>\n",
       "    <tr>\n",
       "      <th>4</th>\n",
       "      <td>73.300</td>\n",
       "      <td>104008.0</td>\n",
       "      <td>0.908</td>\n",
       "      <td>0.934</td>\n",
       "      <td>0.481</td>\n",
       "      <td>10.906</td>\n",
       "      <td>937275.0</td>\n",
       "      <td>94.1</td>\n",
       "      <td>44.0</td>\n",
       "      <td>0.042</td>\n",
       "      <td>83871.0</td>\n",
       "      <td>2408.0</td>\n",
       "    </tr>\n",
       "  </tbody>\n",
       "</table>\n",
       "</div>"
      ],
      "text/plain": [
       "   healty_life_exp  covid_tests_per_mil  freedom  social_support  \\\n",
       "0           52.493               2317.0    0.382           0.463   \n",
       "1           69.000              17564.0    0.828           0.898   \n",
       "2           67.055              57898.0    0.825           0.799   \n",
       "3           73.900             181419.0    0.914           0.940   \n",
       "4           73.300             104008.0    0.908           0.934   \n",
       "\n",
       "   percept_corrupt  log_gdp_per_cap  covid_total_tests  meat_consumption  \\\n",
       "0            0.924            7.695            90396.0              17.3   \n",
       "1            0.834            9.962           794544.0              79.7   \n",
       "2            0.629            9.487           171600.0              27.7   \n",
       "3            0.442           10.796          4631419.0             108.2   \n",
       "4            0.481           10.906           937275.0              94.1   \n",
       "\n",
       "   median_age  generosity  land_area_skm  covid_cases_per_mil  \n",
       "0        27.4      -0.102       652230.0                946.0  \n",
       "1        31.7      -0.182      2780400.0               5044.0  \n",
       "2        35.1      -0.168        29743.0              13435.0  \n",
       "3        38.7       0.159      7741220.0                779.0  \n",
       "4        44.0       0.042        83871.0               2408.0  "
      ]
     },
     "execution_count": 3,
     "metadata": {},
     "output_type": "execute_result"
    }
   ],
   "source": [
    "# Define features set\n",
    "X = df.copy()\n",
    "X = X.drop(\"ladder_score\", axis=1)\n",
    "X.head()"
   ]
  },
  {
   "cell_type": "code",
   "execution_count": 4,
   "id": "7c0e2b30",
   "metadata": {},
   "outputs": [
    {
     "data": {
      "text/plain": [
       "array([[2],\n",
       "       [5],\n",
       "       [5],\n",
       "       [7],\n",
       "       [7]], dtype=int64)"
      ]
     },
     "execution_count": 4,
     "metadata": {},
     "output_type": "execute_result"
    }
   ],
   "source": [
    "# Define target vector\n",
    "y = df[\"ladder_score\"].values.reshape(-1, 1)\n",
    "y[:5]"
   ]
  },
  {
   "cell_type": "code",
   "execution_count": 5,
   "id": "3830cc3c",
   "metadata": {},
   "outputs": [],
   "source": [
    "# Splitting into Train and Test sets\n",
    "X_train, X_test, y_train, y_test = train_test_split(X, y, random_state=78, train_size=0.80 )\n"
   ]
  },
  {
   "cell_type": "code",
   "execution_count": 6,
   "id": "461c282d",
   "metadata": {},
   "outputs": [
    {
     "name": "stdout",
     "output_type": "stream",
     "text": [
      "(100, 12)\n",
      "(25, 12)\n",
      "(100, 1)\n",
      "(25, 1)\n"
     ]
    }
   ],
   "source": [
    "print(X_train.shape)\n",
    "print(X_test.shape)\n",
    "print(y_train.shape)\n",
    "print(y_test.shape)"
   ]
  },
  {
   "cell_type": "code",
   "execution_count": 7,
   "id": "c045e8f0",
   "metadata": {},
   "outputs": [],
   "source": [
    "# Creating StandardScaler instance\n",
    "scaler = StandardScaler()"
   ]
  },
  {
   "cell_type": "code",
   "execution_count": 8,
   "id": "a0a5ae02",
   "metadata": {},
   "outputs": [],
   "source": [
    "# Fitting Standard Scaller\n",
    "X_scaler = scaler.fit(X_train)"
   ]
  },
  {
   "cell_type": "code",
   "execution_count": 9,
   "id": "8bc6213c",
   "metadata": {},
   "outputs": [],
   "source": [
    "# Scaling data\n",
    "X_train_scaled = X_scaler.transform(X_train)\n",
    "X_test_scaled = X_scaler.transform(X_test)"
   ]
  },
  {
   "cell_type": "markdown",
   "id": "abe10a70",
   "metadata": {},
   "source": [
    "# Fitting the Decision Tree Model"
   ]
  },
  {
   "cell_type": "code",
   "execution_count": 10,
   "id": "d79a8c54",
   "metadata": {},
   "outputs": [],
   "source": [
    "# Creating the decision tree classifier instance\n",
    "model = tree.DecisionTreeClassifier()"
   ]
  },
  {
   "cell_type": "code",
   "execution_count": 11,
   "id": "55786491",
   "metadata": {},
   "outputs": [],
   "source": [
    "# Fitting the model\n",
    "model = model.fit(X_train_scaled, y_train)"
   ]
  },
  {
   "cell_type": "markdown",
   "id": "84735dea",
   "metadata": {},
   "source": [
    "# Making Predictions Using the Tree Mode"
   ]
  },
  {
   "cell_type": "code",
   "execution_count": 12,
   "id": "6af94f37",
   "metadata": {},
   "outputs": [],
   "source": [
    "# Making predictions using the testing data\n",
    "predictions = model.predict(X_test_scaled)"
   ]
  },
  {
   "cell_type": "markdown",
   "id": "3b5e1ec0",
   "metadata": {},
   "source": [
    "# Model Evaluation"
   ]
  },
  {
   "cell_type": "code",
   "execution_count": 13,
   "id": "9afff8da",
   "metadata": {},
   "outputs": [],
   "source": [
    "# Calculating the confusion matrix\n",
    "cm = confusion_matrix(y_test, predictions)\n",
    "cm_df = pd.DataFrame(\n",
    "    cm, index=[\"Actual 0\", \"Actual 1\", \"Actual 2\", \"Actual 3\", \"Actual 4\"], \n",
    "    columns=[\"Predicted 0\", \"Predicted 1\", \"Predicted 2\", \"Predicted 3\", \"Predicted 4\"]\n",
    ")\n",
    "\n",
    "# Calculating the accuracy score\n",
    "acc_score = accuracy_score(y_test, predictions)"
   ]
  },
  {
   "cell_type": "code",
   "execution_count": 14,
   "id": "3d04d618",
   "metadata": {},
   "outputs": [
    {
     "name": "stdout",
     "output_type": "stream",
     "text": [
      "Confusion Matrix\n"
     ]
    },
    {
     "data": {
      "text/html": [
       "<div>\n",
       "<style scoped>\n",
       "    .dataframe tbody tr th:only-of-type {\n",
       "        vertical-align: middle;\n",
       "    }\n",
       "\n",
       "    .dataframe tbody tr th {\n",
       "        vertical-align: top;\n",
       "    }\n",
       "\n",
       "    .dataframe thead th {\n",
       "        text-align: right;\n",
       "    }\n",
       "</style>\n",
       "<table border=\"1\" class=\"dataframe\">\n",
       "  <thead>\n",
       "    <tr style=\"text-align: right;\">\n",
       "      <th></th>\n",
       "      <th>Predicted 0</th>\n",
       "      <th>Predicted 1</th>\n",
       "      <th>Predicted 2</th>\n",
       "      <th>Predicted 3</th>\n",
       "      <th>Predicted 4</th>\n",
       "    </tr>\n",
       "  </thead>\n",
       "  <tbody>\n",
       "    <tr>\n",
       "      <th>Actual 0</th>\n",
       "      <td>0</td>\n",
       "      <td>1</td>\n",
       "      <td>1</td>\n",
       "      <td>0</td>\n",
       "      <td>0</td>\n",
       "    </tr>\n",
       "    <tr>\n",
       "      <th>Actual 1</th>\n",
       "      <td>2</td>\n",
       "      <td>0</td>\n",
       "      <td>0</td>\n",
       "      <td>1</td>\n",
       "      <td>0</td>\n",
       "    </tr>\n",
       "    <tr>\n",
       "      <th>Actual 2</th>\n",
       "      <td>1</td>\n",
       "      <td>2</td>\n",
       "      <td>2</td>\n",
       "      <td>4</td>\n",
       "      <td>0</td>\n",
       "    </tr>\n",
       "    <tr>\n",
       "      <th>Actual 3</th>\n",
       "      <td>0</td>\n",
       "      <td>0</td>\n",
       "      <td>2</td>\n",
       "      <td>5</td>\n",
       "      <td>0</td>\n",
       "    </tr>\n",
       "    <tr>\n",
       "      <th>Actual 4</th>\n",
       "      <td>0</td>\n",
       "      <td>0</td>\n",
       "      <td>0</td>\n",
       "      <td>1</td>\n",
       "      <td>3</td>\n",
       "    </tr>\n",
       "  </tbody>\n",
       "</table>\n",
       "</div>"
      ],
      "text/plain": [
       "          Predicted 0  Predicted 1  Predicted 2  Predicted 3  Predicted 4\n",
       "Actual 0            0            1            1            0            0\n",
       "Actual 1            2            0            0            1            0\n",
       "Actual 2            1            2            2            4            0\n",
       "Actual 3            0            0            2            5            0\n",
       "Actual 4            0            0            0            1            3"
      ]
     },
     "metadata": {},
     "output_type": "display_data"
    },
    {
     "name": "stdout",
     "output_type": "stream",
     "text": [
      "Accuracy Score : 0.4\n",
      "Classification Report\n",
      "              precision    recall  f1-score   support\n",
      "\n",
      "           3       0.00      0.00      0.00         2\n",
      "           4       0.00      0.00      0.00         3\n",
      "           5       0.40      0.22      0.29         9\n",
      "           6       0.45      0.71      0.56         7\n",
      "           7       1.00      0.75      0.86         4\n",
      "\n",
      "    accuracy                           0.40        25\n",
      "   macro avg       0.37      0.34      0.34        25\n",
      "weighted avg       0.43      0.40      0.40        25\n",
      "\n"
     ]
    }
   ],
   "source": [
    "# Displaying results\n",
    "print(\"Confusion Matrix\")\n",
    "display(cm_df)\n",
    "print(f\"Accuracy Score : {acc_score}\")\n",
    "print(\"Classification Report\")\n",
    "print(classification_report(y_test, predictions))"
   ]
  },
  {
   "cell_type": "code",
   "execution_count": null,
   "id": "c9defc46",
   "metadata": {},
   "outputs": [],
   "source": []
  },
  {
   "cell_type": "code",
   "execution_count": null,
   "id": "d90e365a",
   "metadata": {},
   "outputs": [],
   "source": []
  },
  {
   "cell_type": "code",
   "execution_count": null,
   "id": "a547a4b8",
   "metadata": {},
   "outputs": [],
   "source": []
  }
 ],
 "metadata": {
  "kernelspec": {
   "display_name": "Python 3 (ipykernel)",
   "language": "python",
   "name": "python3"
  },
  "language_info": {
   "codemirror_mode": {
    "name": "ipython",
    "version": 3
   },
   "file_extension": ".py",
   "mimetype": "text/x-python",
   "name": "python",
   "nbconvert_exporter": "python",
   "pygments_lexer": "ipython3",
   "version": "3.9.7"
  }
 },
 "nbformat": 4,
 "nbformat_minor": 5
}
