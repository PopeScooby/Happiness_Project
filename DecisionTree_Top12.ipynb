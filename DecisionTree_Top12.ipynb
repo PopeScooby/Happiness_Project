{
 "cells": [
  {
   "cell_type": "markdown",
   "id": "a0fe8dd2",
   "metadata": {},
   "source": [
    "# Decision Tree Model"
   ]
  },
  {
   "cell_type": "code",
   "execution_count": 1,
   "id": "1a7b9784",
   "metadata": {},
   "outputs": [],
   "source": [
    "# Initial imports\n",
    "import pandas as pd\n",
    "from path import Path\n",
    "from sklearn import tree\n",
    "from sklearn.preprocessing import StandardScaler\n",
    "from sklearn.model_selection import train_test_split\n",
    "from sklearn.metrics import confusion_matrix, accuracy_score, classification_report"
   ]
  },
  {
   "cell_type": "markdown",
   "id": "539fa8e7",
   "metadata": {},
   "source": [
    "# Loading and Preprocessing Data"
   ]
  },
  {
   "cell_type": "code",
   "execution_count": 2,
   "id": "5ab9ad7e",
   "metadata": {},
   "outputs": [
    {
     "data": {
      "text/html": [
       "<div>\n",
       "<style scoped>\n",
       "    .dataframe tbody tr th:only-of-type {\n",
       "        vertical-align: middle;\n",
       "    }\n",
       "\n",
       "    .dataframe tbody tr th {\n",
       "        vertical-align: top;\n",
       "    }\n",
       "\n",
       "    .dataframe thead th {\n",
       "        text-align: right;\n",
       "    }\n",
       "</style>\n",
       "<table border=\"1\" class=\"dataframe\">\n",
       "  <thead>\n",
       "    <tr style=\"text-align: right;\">\n",
       "      <th></th>\n",
       "      <th>ladder_score</th>\n",
       "      <th>freedom</th>\n",
       "      <th>healty_life_exp</th>\n",
       "      <th>log_gdp_per_cap</th>\n",
       "      <th>meat_consumption</th>\n",
       "      <th>percept_corrupt</th>\n",
       "      <th>suicide_rate</th>\n",
       "      <th>social_support</th>\n",
       "      <th>covid_tests_per_mil</th>\n",
       "      <th>ac_female</th>\n",
       "      <th>generosity</th>\n",
       "      <th>covid_deaths_per_mil</th>\n",
       "      <th>covid_total_tests</th>\n",
       "    </tr>\n",
       "  </thead>\n",
       "  <tbody>\n",
       "    <tr>\n",
       "      <th>0</th>\n",
       "      <td>6</td>\n",
       "      <td>0.804</td>\n",
       "      <td>66.601</td>\n",
       "      <td>9.577</td>\n",
       "      <td>82.4</td>\n",
       "      <td>0.756</td>\n",
       "      <td>82.4</td>\n",
       "      <td>0.882</td>\n",
       "      <td>62085.0</td>\n",
       "      <td>3.22</td>\n",
       "      <td>-0.071</td>\n",
       "      <td>464.0</td>\n",
       "      <td>13206188.0</td>\n",
       "    </tr>\n",
       "    <tr>\n",
       "      <th>1</th>\n",
       "      <td>3</td>\n",
       "      <td>0.893</td>\n",
       "      <td>60.633</td>\n",
       "      <td>8.755</td>\n",
       "      <td>5.2</td>\n",
       "      <td>0.774</td>\n",
       "      <td>5.2</td>\n",
       "      <td>0.603</td>\n",
       "      <td>16035.0</td>\n",
       "      <td>1.89</td>\n",
       "      <td>0.089</td>\n",
       "      <td>30.0</td>\n",
       "      <td>22149351.0</td>\n",
       "    </tr>\n",
       "    <tr>\n",
       "      <th>2</th>\n",
       "      <td>5</td>\n",
       "      <td>0.718</td>\n",
       "      <td>64.703</td>\n",
       "      <td>10.189</td>\n",
       "      <td>51.0</td>\n",
       "      <td>0.845</td>\n",
       "      <td>51.0</td>\n",
       "      <td>0.903</td>\n",
       "      <td>203623.0</td>\n",
       "      <td>4.31</td>\n",
       "      <td>-0.111</td>\n",
       "      <td>100.0</td>\n",
       "      <td>29716907.0</td>\n",
       "    </tr>\n",
       "    <tr>\n",
       "      <th>3</th>\n",
       "      <td>4</td>\n",
       "      <td>0.749</td>\n",
       "      <td>56.904</td>\n",
       "      <td>9.403</td>\n",
       "      <td>39.0</td>\n",
       "      <td>0.860</td>\n",
       "      <td>39.0</td>\n",
       "      <td>0.860</td>\n",
       "      <td>53044.0</td>\n",
       "      <td>3.46</td>\n",
       "      <td>-0.067</td>\n",
       "      <td>162.0</td>\n",
       "      <td>3149807.0</td>\n",
       "    </tr>\n",
       "    <tr>\n",
       "      <th>4</th>\n",
       "      <td>6</td>\n",
       "      <td>0.862</td>\n",
       "      <td>68.597</td>\n",
       "      <td>9.859</td>\n",
       "      <td>58.6</td>\n",
       "      <td>0.799</td>\n",
       "      <td>58.6</td>\n",
       "      <td>0.831</td>\n",
       "      <td>8189.0</td>\n",
       "      <td>2.18</td>\n",
       "      <td>-0.147</td>\n",
       "      <td>391.0</td>\n",
       "      <td>1056915.0</td>\n",
       "    </tr>\n",
       "  </tbody>\n",
       "</table>\n",
       "</div>"
      ],
      "text/plain": [
       "   ladder_score  freedom  healty_life_exp  log_gdp_per_cap  meat_consumption  \\\n",
       "0             6    0.804           66.601            9.577              82.4   \n",
       "1             3    0.893           60.633            8.755               5.2   \n",
       "2             5    0.718           64.703           10.189              51.0   \n",
       "3             4    0.749           56.904            9.403              39.0   \n",
       "4             6    0.862           68.597            9.859              58.6   \n",
       "\n",
       "   percept_corrupt  suicide_rate  social_support  covid_tests_per_mil  \\\n",
       "0            0.756          82.4           0.882              62085.0   \n",
       "1            0.774           5.2           0.603              16035.0   \n",
       "2            0.845          51.0           0.903             203623.0   \n",
       "3            0.860          39.0           0.860              53044.0   \n",
       "4            0.799          58.6           0.831               8189.0   \n",
       "\n",
       "   ac_female  generosity  covid_deaths_per_mil  covid_total_tests  \n",
       "0       3.22      -0.071                 464.0         13206188.0  \n",
       "1       1.89       0.089                  30.0         22149351.0  \n",
       "2       4.31      -0.111                 100.0         29716907.0  \n",
       "3       3.46      -0.067                 162.0          3149807.0  \n",
       "4       2.18      -0.147                 391.0          1056915.0  "
      ]
     },
     "execution_count": 2,
     "metadata": {},
     "output_type": "execute_result"
    }
   ],
   "source": [
    "# Loading data\n",
    "file_path = Path(\"happiness_top10_df.csv\")\n",
    "df = pd.read_csv(file_path)\n",
    "df.head()"
   ]
  },
  {
   "cell_type": "code",
   "execution_count": 3,
   "id": "252c6658",
   "metadata": {},
   "outputs": [
    {
     "data": {
      "text/html": [
       "<div>\n",
       "<style scoped>\n",
       "    .dataframe tbody tr th:only-of-type {\n",
       "        vertical-align: middle;\n",
       "    }\n",
       "\n",
       "    .dataframe tbody tr th {\n",
       "        vertical-align: top;\n",
       "    }\n",
       "\n",
       "    .dataframe thead th {\n",
       "        text-align: right;\n",
       "    }\n",
       "</style>\n",
       "<table border=\"1\" class=\"dataframe\">\n",
       "  <thead>\n",
       "    <tr style=\"text-align: right;\">\n",
       "      <th></th>\n",
       "      <th>freedom</th>\n",
       "      <th>healty_life_exp</th>\n",
       "      <th>log_gdp_per_cap</th>\n",
       "      <th>meat_consumption</th>\n",
       "      <th>percept_corrupt</th>\n",
       "      <th>suicide_rate</th>\n",
       "      <th>social_support</th>\n",
       "      <th>covid_tests_per_mil</th>\n",
       "      <th>ac_female</th>\n",
       "      <th>generosity</th>\n",
       "      <th>covid_deaths_per_mil</th>\n",
       "      <th>covid_total_tests</th>\n",
       "    </tr>\n",
       "  </thead>\n",
       "  <tbody>\n",
       "    <tr>\n",
       "      <th>0</th>\n",
       "      <td>0.804</td>\n",
       "      <td>66.601</td>\n",
       "      <td>9.577</td>\n",
       "      <td>82.4</td>\n",
       "      <td>0.756</td>\n",
       "      <td>82.4</td>\n",
       "      <td>0.882</td>\n",
       "      <td>62085.0</td>\n",
       "      <td>3.22</td>\n",
       "      <td>-0.071</td>\n",
       "      <td>464.0</td>\n",
       "      <td>13206188.0</td>\n",
       "    </tr>\n",
       "    <tr>\n",
       "      <th>1</th>\n",
       "      <td>0.893</td>\n",
       "      <td>60.633</td>\n",
       "      <td>8.755</td>\n",
       "      <td>5.2</td>\n",
       "      <td>0.774</td>\n",
       "      <td>5.2</td>\n",
       "      <td>0.603</td>\n",
       "      <td>16035.0</td>\n",
       "      <td>1.89</td>\n",
       "      <td>0.089</td>\n",
       "      <td>30.0</td>\n",
       "      <td>22149351.0</td>\n",
       "    </tr>\n",
       "    <tr>\n",
       "      <th>2</th>\n",
       "      <td>0.718</td>\n",
       "      <td>64.703</td>\n",
       "      <td>10.189</td>\n",
       "      <td>51.0</td>\n",
       "      <td>0.845</td>\n",
       "      <td>51.0</td>\n",
       "      <td>0.903</td>\n",
       "      <td>203623.0</td>\n",
       "      <td>4.31</td>\n",
       "      <td>-0.111</td>\n",
       "      <td>100.0</td>\n",
       "      <td>29716907.0</td>\n",
       "    </tr>\n",
       "    <tr>\n",
       "      <th>3</th>\n",
       "      <td>0.749</td>\n",
       "      <td>56.904</td>\n",
       "      <td>9.403</td>\n",
       "      <td>39.0</td>\n",
       "      <td>0.860</td>\n",
       "      <td>39.0</td>\n",
       "      <td>0.860</td>\n",
       "      <td>53044.0</td>\n",
       "      <td>3.46</td>\n",
       "      <td>-0.067</td>\n",
       "      <td>162.0</td>\n",
       "      <td>3149807.0</td>\n",
       "    </tr>\n",
       "    <tr>\n",
       "      <th>4</th>\n",
       "      <td>0.862</td>\n",
       "      <td>68.597</td>\n",
       "      <td>9.859</td>\n",
       "      <td>58.6</td>\n",
       "      <td>0.799</td>\n",
       "      <td>58.6</td>\n",
       "      <td>0.831</td>\n",
       "      <td>8189.0</td>\n",
       "      <td>2.18</td>\n",
       "      <td>-0.147</td>\n",
       "      <td>391.0</td>\n",
       "      <td>1056915.0</td>\n",
       "    </tr>\n",
       "  </tbody>\n",
       "</table>\n",
       "</div>"
      ],
      "text/plain": [
       "   freedom  healty_life_exp  log_gdp_per_cap  meat_consumption  \\\n",
       "0    0.804           66.601            9.577              82.4   \n",
       "1    0.893           60.633            8.755               5.2   \n",
       "2    0.718           64.703           10.189              51.0   \n",
       "3    0.749           56.904            9.403              39.0   \n",
       "4    0.862           68.597            9.859              58.6   \n",
       "\n",
       "   percept_corrupt  suicide_rate  social_support  covid_tests_per_mil  \\\n",
       "0            0.756          82.4           0.882              62085.0   \n",
       "1            0.774           5.2           0.603              16035.0   \n",
       "2            0.845          51.0           0.903             203623.0   \n",
       "3            0.860          39.0           0.860              53044.0   \n",
       "4            0.799          58.6           0.831               8189.0   \n",
       "\n",
       "   ac_female  generosity  covid_deaths_per_mil  covid_total_tests  \n",
       "0       3.22      -0.071                 464.0         13206188.0  \n",
       "1       1.89       0.089                  30.0         22149351.0  \n",
       "2       4.31      -0.111                 100.0         29716907.0  \n",
       "3       3.46      -0.067                 162.0          3149807.0  \n",
       "4       2.18      -0.147                 391.0          1056915.0  "
      ]
     },
     "execution_count": 3,
     "metadata": {},
     "output_type": "execute_result"
    }
   ],
   "source": [
    "# Define features set\n",
    "X = df.copy()\n",
    "X = X.drop(\"ladder_score\", axis=1)\n",
    "X.head()"
   ]
  },
  {
   "cell_type": "code",
   "execution_count": 4,
   "id": "7c0e2b30",
   "metadata": {},
   "outputs": [
    {
     "data": {
      "text/plain": [
       "array([[6],\n",
       "       [3],\n",
       "       [5],\n",
       "       [4],\n",
       "       [6]], dtype=int64)"
      ]
     },
     "execution_count": 4,
     "metadata": {},
     "output_type": "execute_result"
    }
   ],
   "source": [
    "# Define target vector\n",
    "y = df[\"ladder_score\"].values.reshape(-1, 1)\n",
    "y[:5]"
   ]
  },
  {
   "cell_type": "code",
   "execution_count": 5,
   "id": "3830cc3c",
   "metadata": {},
   "outputs": [],
   "source": [
    "# Splitting into Train and Test sets\n",
    "X_train, X_test, y_train, y_test = train_test_split(X, y, random_state=78, train_size=0.80)"
   ]
  },
  {
   "cell_type": "code",
   "execution_count": 6,
   "id": "461c282d",
   "metadata": {},
   "outputs": [
    {
     "name": "stdout",
     "output_type": "stream",
     "text": [
      "(95, 12)\n",
      "(24, 12)\n",
      "(95, 1)\n",
      "(24, 1)\n"
     ]
    }
   ],
   "source": [
    "print(X_train.shape)\n",
    "print(X_test.shape)\n",
    "print(y_train.shape)\n",
    "print(y_test.shape)"
   ]
  },
  {
   "cell_type": "code",
   "execution_count": 9,
   "id": "c045e8f0",
   "metadata": {},
   "outputs": [],
   "source": [
    "# Creating StandardScaler instance\n",
    "scaler = StandardScaler()"
   ]
  },
  {
   "cell_type": "code",
   "execution_count": 10,
   "id": "a0a5ae02",
   "metadata": {},
   "outputs": [],
   "source": [
    "# Fitting Standard Scaller\n",
    "X_scaler = scaler.fit(X_train)"
   ]
  },
  {
   "cell_type": "code",
   "execution_count": 11,
   "id": "8bc6213c",
   "metadata": {},
   "outputs": [],
   "source": [
    "# Scaling data\n",
    "X_train_scaled = X_scaler.transform(X_train)\n",
    "X_test_scaled = X_scaler.transform(X_test)"
   ]
  },
  {
   "cell_type": "markdown",
   "id": "abe10a70",
   "metadata": {},
   "source": [
    "# Fitting the Decision Tree Model"
   ]
  },
  {
   "cell_type": "code",
   "execution_count": 12,
   "id": "d79a8c54",
   "metadata": {},
   "outputs": [],
   "source": [
    "# Creating the decision tree classifier instance\n",
    "model = tree.DecisionTreeClassifier()"
   ]
  },
  {
   "cell_type": "code",
   "execution_count": 13,
   "id": "55786491",
   "metadata": {},
   "outputs": [],
   "source": [
    "# Fitting the model\n",
    "model = model.fit(X_train_scaled, y_train)"
   ]
  },
  {
   "cell_type": "markdown",
   "id": "84735dea",
   "metadata": {},
   "source": [
    "# Making Predictions Using the Tree Mode"
   ]
  },
  {
   "cell_type": "code",
   "execution_count": 14,
   "id": "6af94f37",
   "metadata": {},
   "outputs": [],
   "source": [
    "# Making predictions using the testing data\n",
    "predictions = model.predict(X_test_scaled)"
   ]
  },
  {
   "cell_type": "markdown",
   "id": "3b5e1ec0",
   "metadata": {},
   "source": [
    "# Model Evaluation"
   ]
  },
  {
   "cell_type": "code",
   "execution_count": 15,
   "id": "9afff8da",
   "metadata": {},
   "outputs": [],
   "source": [
    "# Calculating the confusion matrix\n",
    "cm = confusion_matrix(y_test, predictions)\n",
    "cm_df = pd.DataFrame(\n",
    "    cm, index=[\"Actual 0\", \"Actual 1\", \"Actual 2\", \"Actual 3\", \"Actual 4\"], \n",
    "    columns=[\"Predicted 0\", \"Predicted 1\", \"Predicted 2\", \"Predicted 3\", \"Predicted 4\"]\n",
    ")\n",
    "\n",
    "# Calculating the accuracy score\n",
    "acc_score = accuracy_score(y_test, predictions)"
   ]
  },
  {
   "cell_type": "code",
   "execution_count": 16,
   "id": "3d04d618",
   "metadata": {},
   "outputs": [
    {
     "name": "stdout",
     "output_type": "stream",
     "text": [
      "Confusion Matrix\n"
     ]
    },
    {
     "data": {
      "text/html": [
       "<div>\n",
       "<style scoped>\n",
       "    .dataframe tbody tr th:only-of-type {\n",
       "        vertical-align: middle;\n",
       "    }\n",
       "\n",
       "    .dataframe tbody tr th {\n",
       "        vertical-align: top;\n",
       "    }\n",
       "\n",
       "    .dataframe thead th {\n",
       "        text-align: right;\n",
       "    }\n",
       "</style>\n",
       "<table border=\"1\" class=\"dataframe\">\n",
       "  <thead>\n",
       "    <tr style=\"text-align: right;\">\n",
       "      <th></th>\n",
       "      <th>Predicted 0</th>\n",
       "      <th>Predicted 1</th>\n",
       "      <th>Predicted 2</th>\n",
       "      <th>Predicted 3</th>\n",
       "      <th>Predicted 4</th>\n",
       "    </tr>\n",
       "  </thead>\n",
       "  <tbody>\n",
       "    <tr>\n",
       "      <th>Actual 0</th>\n",
       "      <td>0</td>\n",
       "      <td>0</td>\n",
       "      <td>0</td>\n",
       "      <td>0</td>\n",
       "      <td>0</td>\n",
       "    </tr>\n",
       "    <tr>\n",
       "      <th>Actual 1</th>\n",
       "      <td>0</td>\n",
       "      <td>3</td>\n",
       "      <td>3</td>\n",
       "      <td>0</td>\n",
       "      <td>0</td>\n",
       "    </tr>\n",
       "    <tr>\n",
       "      <th>Actual 2</th>\n",
       "      <td>1</td>\n",
       "      <td>3</td>\n",
       "      <td>2</td>\n",
       "      <td>3</td>\n",
       "      <td>1</td>\n",
       "    </tr>\n",
       "    <tr>\n",
       "      <th>Actual 3</th>\n",
       "      <td>0</td>\n",
       "      <td>0</td>\n",
       "      <td>2</td>\n",
       "      <td>2</td>\n",
       "      <td>2</td>\n",
       "    </tr>\n",
       "    <tr>\n",
       "      <th>Actual 4</th>\n",
       "      <td>0</td>\n",
       "      <td>0</td>\n",
       "      <td>0</td>\n",
       "      <td>0</td>\n",
       "      <td>2</td>\n",
       "    </tr>\n",
       "  </tbody>\n",
       "</table>\n",
       "</div>"
      ],
      "text/plain": [
       "          Predicted 0  Predicted 1  Predicted 2  Predicted 3  Predicted 4\n",
       "Actual 0            0            0            0            0            0\n",
       "Actual 1            0            3            3            0            0\n",
       "Actual 2            1            3            2            3            1\n",
       "Actual 3            0            0            2            2            2\n",
       "Actual 4            0            0            0            0            2"
      ]
     },
     "metadata": {},
     "output_type": "display_data"
    },
    {
     "name": "stdout",
     "output_type": "stream",
     "text": [
      "Accuracy Score : 0.375\n",
      "Classification Report\n",
      "              precision    recall  f1-score   support\n",
      "\n",
      "           3       0.00      0.00      0.00         0\n",
      "           4       0.50      0.50      0.50         6\n",
      "           5       0.29      0.20      0.24        10\n",
      "           6       0.40      0.33      0.36         6\n",
      "           7       0.40      1.00      0.57         2\n",
      "\n",
      "    accuracy                           0.38        24\n",
      "   macro avg       0.32      0.41      0.33        24\n",
      "weighted avg       0.38      0.38      0.36        24\n",
      "\n"
     ]
    },
    {
     "name": "stderr",
     "output_type": "stream",
     "text": [
      "C:\\Users\\Brittany\\anaconda3\\lib\\site-packages\\sklearn\\metrics\\_classification.py:1318: UndefinedMetricWarning: Recall and F-score are ill-defined and being set to 0.0 in labels with no true samples. Use `zero_division` parameter to control this behavior.\n",
      "  _warn_prf(average, modifier, msg_start, len(result))\n",
      "C:\\Users\\Brittany\\anaconda3\\lib\\site-packages\\sklearn\\metrics\\_classification.py:1318: UndefinedMetricWarning: Recall and F-score are ill-defined and being set to 0.0 in labels with no true samples. Use `zero_division` parameter to control this behavior.\n",
      "  _warn_prf(average, modifier, msg_start, len(result))\n",
      "C:\\Users\\Brittany\\anaconda3\\lib\\site-packages\\sklearn\\metrics\\_classification.py:1318: UndefinedMetricWarning: Recall and F-score are ill-defined and being set to 0.0 in labels with no true samples. Use `zero_division` parameter to control this behavior.\n",
      "  _warn_prf(average, modifier, msg_start, len(result))\n"
     ]
    }
   ],
   "source": [
    "# Displaying results\n",
    "print(\"Confusion Matrix\")\n",
    "display(cm_df)\n",
    "print(f\"Accuracy Score : {acc_score}\")\n",
    "print(\"Classification Report\")\n",
    "print(classification_report(y_test, predictions))"
   ]
  },
  {
   "cell_type": "code",
   "execution_count": null,
   "id": "c9defc46",
   "metadata": {},
   "outputs": [],
   "source": []
  },
  {
   "cell_type": "code",
   "execution_count": null,
   "id": "d90e365a",
   "metadata": {},
   "outputs": [],
   "source": []
  },
  {
   "cell_type": "code",
   "execution_count": null,
   "id": "a547a4b8",
   "metadata": {},
   "outputs": [],
   "source": []
  }
 ],
 "metadata": {
  "kernelspec": {
   "display_name": "Python 3 (ipykernel)",
   "language": "python",
   "name": "python3"
  },
  "language_info": {
   "codemirror_mode": {
    "name": "ipython",
    "version": 3
   },
   "file_extension": ".py",
   "mimetype": "text/x-python",
   "name": "python",
   "nbconvert_exporter": "python",
   "pygments_lexer": "ipython3",
   "version": "3.9.7"
  }
 },
 "nbformat": 4,
 "nbformat_minor": 5
}
